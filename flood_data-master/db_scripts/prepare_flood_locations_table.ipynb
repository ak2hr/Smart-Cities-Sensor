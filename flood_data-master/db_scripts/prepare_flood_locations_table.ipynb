{
 "cells": [
  {
   "cell_type": "markdown",
   "metadata": {},
   "source": [
    "# Prepare Flood Locations data for DB"
   ]
  },
  {
   "cell_type": "code",
   "execution_count": 18,
   "metadata": {
    "collapsed": false
   },
   "outputs": [],
   "source": [
    "%matplotlib inline\n",
    "import matplotlib\n",
    "import matplotlib.pyplot as plt\n",
    "\n",
    "from db_scripts.get_server_data import data_dir, db_filename\n",
    "import pandas as pd\n",
    "import sqlite3\n",
    "import re\n",
    "\n",
    "matplotlib.style.use('ggplot')\n",
    "font_size = 14\n",
    "params = {'legend.fontsize': font_size,\n",
    "          'figure.figsize': (6, 4),\n",
    "         'axes.labelsize': font_size,\n",
    "         'axes.titlesize':font_size,\n",
    "         'xtick.labelsize':font_size,\n",
    "         'ytick.labelsize':font_size}\n",
    "plt.rcParams.update(params)"
   ]
  },
  {
   "cell_type": "markdown",
   "metadata": {},
   "source": [
    "### Read in the data"
   ]
  },
  {
   "cell_type": "code",
   "execution_count": 2,
   "metadata": {
    "collapsed": false
   },
   "outputs": [],
   "source": [
    "data_dir += \"norfolk_flooded_roads_data/\""
   ]
  },
  {
   "cell_type": "code",
   "execution_count": 3,
   "metadata": {
    "collapsed": false
   },
   "outputs": [],
   "source": [
    "dtw = pd.read_csv(data_dir+'locations_with_dists_to_water_elevs.csv')"
   ]
  },
  {
   "cell_type": "code",
   "execution_count": 4,
   "metadata": {
    "collapsed": true
   },
   "outputs": [],
   "source": [
    "cds = pd.read_csv(data_dir+'STORM_data_flooded_streets_2010-2016_no_duplicates_clean_lat_lon.csv')"
   ]
  },
  {
   "cell_type": "markdown",
   "metadata": {},
   "source": [
    "### Index by location name and subset to just columns we want"
   ]
  },
  {
   "cell_type": "code",
   "execution_count": 5,
   "metadata": {
    "collapsed": false
   },
   "outputs": [],
   "source": [
    "dtw.set_index('location_name', inplace=True)\n",
    "cds.set_index('location', inplace=True)"
   ]
  },
  {
   "cell_type": "code",
   "execution_count": 6,
   "metadata": {
    "collapsed": false
   },
   "outputs": [],
   "source": [
    "cds = cds[['xcoord', 'ycoord', 'lon', 'lat']]"
   ]
  },
  {
   "cell_type": "code",
   "execution_count": 7,
   "metadata": {
    "collapsed": false
   },
   "outputs": [],
   "source": [
    "flood_counts = cds.index.value_counts()\n",
    "flood_counts = flood_counts.rename('flood_count')"
   ]
  },
  {
   "cell_type": "code",
   "execution_count": 8,
   "metadata": {
    "collapsed": false
   },
   "outputs": [],
   "source": [
    "cds = cds[~cds.index.duplicated()]"
   ]
  },
  {
   "cell_type": "code",
   "execution_count": 9,
   "metadata": {
    "collapsed": false
   },
   "outputs": [
    {
     "name": "stdout",
     "output_type": "stream",
     "text": [
      "(747, 4)\n"
     ]
    },
    {
     "data": {
      "text/html": [
       "<div>\n",
       "<table border=\"1\" class=\"dataframe\">\n",
       "  <thead>\n",
       "    <tr style=\"text-align: right;\">\n",
       "      <th></th>\n",
       "      <th>xcoord</th>\n",
       "      <th>ycoord</th>\n",
       "      <th>lon</th>\n",
       "      <th>lat</th>\n",
       "    </tr>\n",
       "    <tr>\n",
       "      <th>location</th>\n",
       "      <th></th>\n",
       "      <th></th>\n",
       "      <th></th>\n",
       "      <th></th>\n",
       "    </tr>\n",
       "  </thead>\n",
       "  <tbody>\n",
       "    <tr>\n",
       "      <th>300 BLOCK OF SHIRLEY AVENUE</th>\n",
       "      <td>1.212926e+07</td>\n",
       "      <td>3.481753e+06</td>\n",
       "      <td>-76.290425</td>\n",
       "      <td>36.864399</td>\n",
       "    </tr>\n",
       "    <tr>\n",
       "      <th>LLEWELLYN AVENUE &amp; SHIRLEY AVENUE</th>\n",
       "      <td>1.212972e+07</td>\n",
       "      <td>3.481566e+06</td>\n",
       "      <td>-76.288847</td>\n",
       "      <td>36.863856</td>\n",
       "    </tr>\n",
       "    <tr>\n",
       "      <th>LLEWELLYN AVENUE &amp; W PRINCESS ANNE ROAD</th>\n",
       "      <td>1.212937e+07</td>\n",
       "      <td>3.480689e+06</td>\n",
       "      <td>-76.290115</td>\n",
       "      <td>36.861472</td>\n",
       "    </tr>\n",
       "    <tr>\n",
       "      <th>900 BLOCK OF TIDEWATER DRIVE</th>\n",
       "      <td>1.213392e+07</td>\n",
       "      <td>3.478090e+06</td>\n",
       "      <td>-76.274775</td>\n",
       "      <td>36.854041</td>\n",
       "    </tr>\n",
       "    <tr>\n",
       "      <th>CAMPOSTELLA ROAD &amp; E BRAMBLETON AVENUE</th>\n",
       "      <td>1.213638e+07</td>\n",
       "      <td>3.474443e+06</td>\n",
       "      <td>-76.266674</td>\n",
       "      <td>36.843867</td>\n",
       "    </tr>\n",
       "  </tbody>\n",
       "</table>\n",
       "</div>"
      ],
      "text/plain": [
       "                                               xcoord        ycoord  \\\n",
       "location                                                              \n",
       "300 BLOCK OF SHIRLEY AVENUE              1.212926e+07  3.481753e+06   \n",
       "LLEWELLYN AVENUE & SHIRLEY AVENUE        1.212972e+07  3.481566e+06   \n",
       "LLEWELLYN AVENUE & W PRINCESS ANNE ROAD  1.212937e+07  3.480689e+06   \n",
       "900 BLOCK OF TIDEWATER DRIVE             1.213392e+07  3.478090e+06   \n",
       "CAMPOSTELLA ROAD & E BRAMBLETON AVENUE   1.213638e+07  3.474443e+06   \n",
       "\n",
       "                                               lon        lat  \n",
       "location                                                       \n",
       "300 BLOCK OF SHIRLEY AVENUE             -76.290425  36.864399  \n",
       "LLEWELLYN AVENUE & SHIRLEY AVENUE       -76.288847  36.863856  \n",
       "LLEWELLYN AVENUE & W PRINCESS ANNE ROAD -76.290115  36.861472  \n",
       "900 BLOCK OF TIDEWATER DRIVE            -76.274775  36.854041  \n",
       "CAMPOSTELLA ROAD & E BRAMBLETON AVENUE  -76.266674  36.843867  "
      ]
     },
     "execution_count": 9,
     "metadata": {},
     "output_type": "execute_result"
    }
   ],
   "source": [
    "print cds.shape\n",
    "cds.head()"
   ]
  },
  {
   "cell_type": "code",
   "execution_count": 10,
   "metadata": {
    "collapsed": false
   },
   "outputs": [
    {
     "name": "stdout",
     "output_type": "stream",
     "text": [
      "(747, 4)\n"
     ]
    },
    {
     "data": {
      "text/html": [
       "<div>\n",
       "<table border=\"1\" class=\"dataframe\">\n",
       "  <thead>\n",
       "    <tr style=\"text-align: right;\">\n",
       "      <th></th>\n",
       "      <th>elevation</th>\n",
       "      <th>distance_to_OW</th>\n",
       "      <th>distance_to_OW_EW</th>\n",
       "      <th>distance_to_OW_WW</th>\n",
       "    </tr>\n",
       "    <tr>\n",
       "      <th>location_name</th>\n",
       "      <th></th>\n",
       "      <th></th>\n",
       "      <th></th>\n",
       "      <th></th>\n",
       "    </tr>\n",
       "  </thead>\n",
       "  <tbody>\n",
       "    <tr>\n",
       "      <th>100 BLOCK OF E CHARLOTTE STREET</th>\n",
       "      <td>2.36928</td>\n",
       "      <td>1936.406483</td>\n",
       "      <td>1936.406483</td>\n",
       "      <td>1936.406483</td>\n",
       "    </tr>\n",
       "    <tr>\n",
       "      <th>100 BLOCK OF E FREEMASON STREET</th>\n",
       "      <td>1.48384</td>\n",
       "      <td>1720.632547</td>\n",
       "      <td>1720.632547</td>\n",
       "      <td>1720.632547</td>\n",
       "    </tr>\n",
       "    <tr>\n",
       "      <th>100 BLOCK OF E WESTMONT AVENUE</th>\n",
       "      <td>3.29497</td>\n",
       "      <td>1673.917794</td>\n",
       "      <td>1394.487418</td>\n",
       "      <td>1226.916138</td>\n",
       "    </tr>\n",
       "    <tr>\n",
       "      <th>100 BLOCK OF FILBERT STREET</th>\n",
       "      <td>3.26233</td>\n",
       "      <td>1556.149031</td>\n",
       "      <td>1556.149031</td>\n",
       "      <td>1199.914194</td>\n",
       "    </tr>\n",
       "    <tr>\n",
       "      <th>100 BLOCK OF MEMORIAL PLACE</th>\n",
       "      <td>1.07364</td>\n",
       "      <td>165.280448</td>\n",
       "      <td>165.280448</td>\n",
       "      <td>165.280448</td>\n",
       "    </tr>\n",
       "  </tbody>\n",
       "</table>\n",
       "</div>"
      ],
      "text/plain": [
       "                                 elevation  distance_to_OW  distance_to_OW_EW  \\\n",
       "location_name                                                                   \n",
       "100 BLOCK OF E CHARLOTTE STREET    2.36928     1936.406483        1936.406483   \n",
       "100 BLOCK OF E FREEMASON STREET    1.48384     1720.632547        1720.632547   \n",
       "100 BLOCK OF E WESTMONT AVENUE     3.29497     1673.917794        1394.487418   \n",
       "100 BLOCK OF FILBERT STREET        3.26233     1556.149031        1556.149031   \n",
       "100 BLOCK OF MEMORIAL PLACE        1.07364      165.280448         165.280448   \n",
       "\n",
       "                                 distance_to_OW_WW  \n",
       "location_name                                       \n",
       "100 BLOCK OF E CHARLOTTE STREET        1936.406483  \n",
       "100 BLOCK OF E FREEMASON STREET        1720.632547  \n",
       "100 BLOCK OF E WESTMONT AVENUE         1226.916138  \n",
       "100 BLOCK OF FILBERT STREET            1199.914194  \n",
       "100 BLOCK OF MEMORIAL PLACE             165.280448  "
      ]
     },
     "execution_count": 10,
     "metadata": {},
     "output_type": "execute_result"
    }
   ],
   "source": [
    "print dtw.shape\n",
    "dtw.head()"
   ]
  },
  {
   "cell_type": "code",
   "execution_count": 11,
   "metadata": {
    "collapsed": false
   },
   "outputs": [
    {
     "name": "stdout",
     "output_type": "stream",
     "text": [
      "(747L,)\n"
     ]
    },
    {
     "data": {
      "text/plain": [
       "E VIRGINIA BEACH BOULEVARD & TIDEWATER DRIVE    19\n",
       "BOUSH STREET & W OLNEY ROAD                     12\n",
       "4TH VIEW STREET & W OCEAN VIEW AVENUE           12\n",
       "E VIRGINIA BEACH BOULEVARD & PARK AVENUE        11\n",
       "LLEWELLYN AVENUE & SHIRLEY AVENUE                9\n",
       "Name: flood_count, dtype: int64"
      ]
     },
     "execution_count": 11,
     "metadata": {},
     "output_type": "execute_result"
    }
   ],
   "source": [
    "print flood_counts.shape\n",
    "flood_counts.head()"
   ]
  },
  {
   "cell_type": "code",
   "execution_count": 12,
   "metadata": {
    "collapsed": false
   },
   "outputs": [
    {
     "data": {
      "text/plain": [
       "0"
      ]
     },
     "execution_count": 12,
     "metadata": {},
     "output_type": "execute_result"
    }
   ],
   "source": [
    "sum(dtw.index.sort_values() != cds.index.sort_values())"
   ]
  },
  {
   "cell_type": "markdown",
   "metadata": {},
   "source": [
    "### Join the tables"
   ]
  },
  {
   "cell_type": "code",
   "execution_count": 13,
   "metadata": {
    "collapsed": false
   },
   "outputs": [],
   "source": [
    "joined = cds.join(dtw)"
   ]
  },
  {
   "cell_type": "code",
   "execution_count": 14,
   "metadata": {
    "collapsed": false,
    "scrolled": true
   },
   "outputs": [
    {
     "data": {
      "text/html": [
       "<div>\n",
       "<table border=\"1\" class=\"dataframe\">\n",
       "  <thead>\n",
       "    <tr style=\"text-align: right;\">\n",
       "      <th></th>\n",
       "      <th>xcoord</th>\n",
       "      <th>ycoord</th>\n",
       "      <th>lon</th>\n",
       "      <th>lat</th>\n",
       "      <th>elevation</th>\n",
       "      <th>distance_to_OW</th>\n",
       "      <th>distance_to_OW_EW</th>\n",
       "      <th>distance_to_OW_WW</th>\n",
       "      <th>flood_count</th>\n",
       "    </tr>\n",
       "    <tr>\n",
       "      <th>location</th>\n",
       "      <th></th>\n",
       "      <th></th>\n",
       "      <th></th>\n",
       "      <th></th>\n",
       "      <th></th>\n",
       "      <th></th>\n",
       "      <th></th>\n",
       "      <th></th>\n",
       "      <th></th>\n",
       "    </tr>\n",
       "  </thead>\n",
       "  <tbody>\n",
       "    <tr>\n",
       "      <th>300 BLOCK OF SHIRLEY AVENUE</th>\n",
       "      <td>1.212926e+07</td>\n",
       "      <td>3.481753e+06</td>\n",
       "      <td>-76.290425</td>\n",
       "      <td>36.864399</td>\n",
       "      <td>2.27047</td>\n",
       "      <td>3291.649848</td>\n",
       "      <td>3291.649848</td>\n",
       "      <td>3291.649848</td>\n",
       "      <td>5</td>\n",
       "    </tr>\n",
       "    <tr>\n",
       "      <th>LLEWELLYN AVENUE &amp; SHIRLEY AVENUE</th>\n",
       "      <td>1.212972e+07</td>\n",
       "      <td>3.481566e+06</td>\n",
       "      <td>-76.288847</td>\n",
       "      <td>36.863856</td>\n",
       "      <td>2.15762</td>\n",
       "      <td>3305.283331</td>\n",
       "      <td>3305.283331</td>\n",
       "      <td>3305.283331</td>\n",
       "      <td>9</td>\n",
       "    </tr>\n",
       "    <tr>\n",
       "      <th>LLEWELLYN AVENUE &amp; W PRINCESS ANNE ROAD</th>\n",
       "      <td>1.212937e+07</td>\n",
       "      <td>3.480689e+06</td>\n",
       "      <td>-76.290115</td>\n",
       "      <td>36.861472</td>\n",
       "      <td>2.31289</td>\n",
       "      <td>2368.435322</td>\n",
       "      <td>2368.435322</td>\n",
       "      <td>2368.435322</td>\n",
       "      <td>1</td>\n",
       "    </tr>\n",
       "    <tr>\n",
       "      <th>900 BLOCK OF TIDEWATER DRIVE</th>\n",
       "      <td>1.213392e+07</td>\n",
       "      <td>3.478090e+06</td>\n",
       "      <td>-76.274775</td>\n",
       "      <td>36.854041</td>\n",
       "      <td>1.73326</td>\n",
       "      <td>4374.592858</td>\n",
       "      <td>4456.503365</td>\n",
       "      <td>3139.348615</td>\n",
       "      <td>1</td>\n",
       "    </tr>\n",
       "    <tr>\n",
       "      <th>CAMPOSTELLA ROAD &amp; E BRAMBLETON AVENUE</th>\n",
       "      <td>1.213638e+07</td>\n",
       "      <td>3.474443e+06</td>\n",
       "      <td>-76.266674</td>\n",
       "      <td>36.843867</td>\n",
       "      <td>3.46408</td>\n",
       "      <td>714.107730</td>\n",
       "      <td>540.656507</td>\n",
       "      <td>759.373034</td>\n",
       "      <td>2</td>\n",
       "    </tr>\n",
       "  </tbody>\n",
       "</table>\n",
       "</div>"
      ],
      "text/plain": [
       "                                               xcoord        ycoord  \\\n",
       "location                                                              \n",
       "300 BLOCK OF SHIRLEY AVENUE              1.212926e+07  3.481753e+06   \n",
       "LLEWELLYN AVENUE & SHIRLEY AVENUE        1.212972e+07  3.481566e+06   \n",
       "LLEWELLYN AVENUE & W PRINCESS ANNE ROAD  1.212937e+07  3.480689e+06   \n",
       "900 BLOCK OF TIDEWATER DRIVE             1.213392e+07  3.478090e+06   \n",
       "CAMPOSTELLA ROAD & E BRAMBLETON AVENUE   1.213638e+07  3.474443e+06   \n",
       "\n",
       "                                               lon        lat  elevation  \\\n",
       "location                                                                   \n",
       "300 BLOCK OF SHIRLEY AVENUE             -76.290425  36.864399    2.27047   \n",
       "LLEWELLYN AVENUE & SHIRLEY AVENUE       -76.288847  36.863856    2.15762   \n",
       "LLEWELLYN AVENUE & W PRINCESS ANNE ROAD -76.290115  36.861472    2.31289   \n",
       "900 BLOCK OF TIDEWATER DRIVE            -76.274775  36.854041    1.73326   \n",
       "CAMPOSTELLA ROAD & E BRAMBLETON AVENUE  -76.266674  36.843867    3.46408   \n",
       "\n",
       "                                         distance_to_OW  distance_to_OW_EW  \\\n",
       "location                                                                     \n",
       "300 BLOCK OF SHIRLEY AVENUE                 3291.649848        3291.649848   \n",
       "LLEWELLYN AVENUE & SHIRLEY AVENUE           3305.283331        3305.283331   \n",
       "LLEWELLYN AVENUE & W PRINCESS ANNE ROAD     2368.435322        2368.435322   \n",
       "900 BLOCK OF TIDEWATER DRIVE                4374.592858        4456.503365   \n",
       "CAMPOSTELLA ROAD & E BRAMBLETON AVENUE       714.107730         540.656507   \n",
       "\n",
       "                                         distance_to_OW_WW  flood_count  \n",
       "location                                                                 \n",
       "300 BLOCK OF SHIRLEY AVENUE                    3291.649848            5  \n",
       "LLEWELLYN AVENUE & SHIRLEY AVENUE              3305.283331            9  \n",
       "LLEWELLYN AVENUE & W PRINCESS ANNE ROAD        2368.435322            1  \n",
       "900 BLOCK OF TIDEWATER DRIVE                   3139.348615            1  \n",
       "CAMPOSTELLA ROAD & E BRAMBLETON AVENUE          759.373034            2  "
      ]
     },
     "execution_count": 14,
     "metadata": {},
     "output_type": "execute_result"
    }
   ],
   "source": [
    "joined = joined.join(flood_counts)\n",
    "joined.head()"
   ]
  },
  {
   "cell_type": "code",
   "execution_count": 15,
   "metadata": {
    "collapsed": true
   },
   "outputs": [],
   "source": [
    "con = sqlite3.connect(db_filename)\n",
    "joined.to_sql(con=con, name='flood_locations', if_exists='replace')"
   ]
  },
  {
   "cell_type": "code",
   "execution_count": 19,
   "metadata": {
    "collapsed": false
   },
   "outputs": [
    {
     "data": {
      "text/plain": [
       "<matplotlib.axes._subplots.AxesSubplot at 0xb824390>"
      ]
     },
     "execution_count": 19,
     "metadata": {},
     "output_type": "execute_result"
    },
    {
     "data": {
      "image/png": "[encoded data removed]",
      "text/plain": [
       "<matplotlib.figure.Figure at 0xba06048>"
      ]
     },
     "metadata": {},
     "output_type": "display_data"
    }
   ],
   "source": [
    "joined.plot.scatter('distance_to_OW', 'flood_count')"
   ]
  },
  {
   "cell_type": "code",
   "execution_count": 20,
   "metadata": {
    "collapsed": false
   },
   "outputs": [
    {
     "data": {
      "text/plain": [
       "<matplotlib.axes._subplots.AxesSubplot at 0xbb18c88>"
      ]
     },
     "execution_count": 20,
     "metadata": {},
     "output_type": "execute_result"
    },
    {
     "data": {
      "image/png": "[encoded data removed]",
      "text/plain": [
       "<matplotlib.figure.Figure at 0xb259278>"
      ]
     },
     "metadata": {},
     "output_type": "display_data"
    }
   ],
   "source": [
    "joined.plot.scatter('elevation', 'flood_count')"
   ]
  }
 ],
 "metadata": {
  "kernelspec": {
   "display_name": "Python 2",
   "language": "python",
   "name": "python2"
  },
  "language_info": {
   "codemirror_mode": {
    "name": "ipython",
    "version": 2
   },
   "file_extension": ".py",
   "mimetype": "text/x-python",
   "name": "python",
   "nbconvert_exporter": "python",
   "pygments_lexer": "ipython2",
   "version": "2.7.13"
  }
 },
 "nbformat": 4,
 "nbformat_minor": 2
}
