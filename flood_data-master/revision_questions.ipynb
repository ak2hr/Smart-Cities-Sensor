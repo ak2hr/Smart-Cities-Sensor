{
 "cells": [
  {
   "cell_type": "markdown",
   "metadata": {},
   "source": [
    "## Intro"
   ]
  },
  {
   "cell_type": "markdown",
   "metadata": {},
   "source": [
    "There are a couple comments from the reviewers that I want to clear up in this notebook:\n",
    "\n",
    "1. How sensitive are the RF results to different parameter values such as number of trees? (from reviewer 1)\n",
    "2. Why not just use rainfall as a proxy for flood severity? Why go to all the work of building these more complex model if most of the information just comes from the rainfall?\n",
    "3. Not what the reviewers asked for but for my own peace of mind, are the two models being tested on the same data?"
   ]
  },
  {
   "cell_type": "code",
   "execution_count": 1,
   "metadata": {
    "collapsed": true
   },
   "outputs": [],
   "source": [
    "%matplotlib inline\n",
    "\n",
    "from hr_db_scripts.main_db_script import get_db_table_as_df\n",
    "from db_scripts.main_db_script import db_filename\n",
    "from results import make_results_df\n",
    "import pandas as pd"
   ]
  },
  {
   "cell_type": "code",
   "execution_count": 2,
   "metadata": {
    "collapsed": true
   },
   "outputs": [],
   "source": [
    "def get_tables(table_suffix):\n",
    "\n",
    "\n",
    "    rf_trn_tbl = 'rf{}train'.format(table_suffix)\n",
    "    rf_tst_tbl = 'rf{}test'.format(table_suffix)\n",
    "    ps_trn_tbl = 'poisson{}train'.format(table_suffix)\n",
    "    ps_tst_tbl = 'poisson{}test'.format(table_suffix)\n",
    "\n",
    "    rf_trn = get_db_table_as_df(rf_trn_tbl, dbfilename=db_filename)\n",
    "    rf_tst = get_db_table_as_df(rf_tst_tbl, dbfilename=db_filename)\n",
    "    ps_trn = get_db_table_as_df(ps_trn_tbl, dbfilename=db_filename)\n",
    "    ps_tst = get_db_table_as_df(ps_tst_tbl, dbfilename=db_filename)\n",
    "    return {'rf_trn': rf_trn, 'rf_tst': rf_tst, 'ps_trn': ps_trn, 'ps_tst': ps_tst}"
   ]
  },
  {
   "cell_type": "markdown",
   "metadata": {},
   "source": [
    "### Question 3: are the models being tested on the same data?"
   ]
  },
  {
   "cell_type": "code",
   "execution_count": 3,
   "metadata": {
    "collapsed": false
   },
   "outputs": [],
   "source": [
    "suffix = '_revisions_'\n",
    "tables = get_tables(suffix)"
   ]
  },
  {
   "cell_type": "code",
   "execution_count": 4,
   "metadata": {
    "collapsed": false
   },
   "outputs": [
    {
     "data": {
      "text/plain": [
       "2541"
      ]
     },
     "execution_count": 4,
     "metadata": {},
     "output_type": "execute_result"
    }
   ],
   "source": [
    "(tables['rf_trn']['all_trn'] != tables['ps_trn']['all_trn']).sum()"
   ]
  },
  {
   "cell_type": "code",
   "execution_count": 5,
   "metadata": {
    "collapsed": false
   },
   "outputs": [
    {
     "data": {
      "text/plain": [
       "1255"
      ]
     },
     "execution_count": 5,
     "metadata": {},
     "output_type": "execute_result"
    }
   ],
   "source": [
    "(tables['rf_tst']['all_tst'] != tables['ps_tst']['all_tst']).sum()"
   ]
  },
  {
   "cell_type": "markdown",
   "metadata": {},
   "source": [
    "It looks like they weren't the same... Now we need to see how that affects the results"
   ]
  },
  {
   "cell_type": "markdown",
   "metadata": {},
   "source": [
    "### Now the code has been refactored so they are the same"
   ]
  },
  {
   "cell_type": "code",
   "execution_count": 6,
   "metadata": {
    "collapsed": true
   },
   "outputs": [],
   "source": [
    "suffix = '_revisions1_'\n",
    "tables1 = get_tables(suffix)"
   ]
  },
  {
   "cell_type": "code",
   "execution_count": 7,
   "metadata": {
    "collapsed": false
   },
   "outputs": [
    {
     "data": {
      "text/plain": [
       "0"
      ]
     },
     "execution_count": 7,
     "metadata": {},
     "output_type": "execute_result"
    }
   ],
   "source": [
    "(tables1['rf_trn']['all_trn'] != tables1['ps_trn']['all_trn']).sum()"
   ]
  },
  {
   "cell_type": "code",
   "execution_count": 8,
   "metadata": {
    "collapsed": false
   },
   "outputs": [
    {
     "data": {
      "text/plain": [
       "0"
      ]
     },
     "execution_count": 8,
     "metadata": {},
     "output_type": "execute_result"
    }
   ],
   "source": [
    "(tables1['rf_tst']['all_tst'] != tables1['ps_tst']['all_tst']).sum()"
   ]
  },
  {
   "cell_type": "markdown",
   "metadata": {},
   "source": [
    "### Question: do the results differ with the restructuring of the code?"
   ]
  },
  {
   "cell_type": "code",
   "execution_count": 9,
   "metadata": {
    "collapsed": false
   },
   "outputs": [
    {
     "data": {
      "text/plain": [
       "0"
      ]
     },
     "execution_count": 9,
     "metadata": {},
     "output_type": "execute_result"
    }
   ],
   "source": [
    "(tables1['rf_trn']['all_trn'] != tables['rf_trn']['all_trn']).sum()"
   ]
  },
  {
   "cell_type": "code",
   "execution_count": 10,
   "metadata": {
    "collapsed": false
   },
   "outputs": [
    {
     "data": {
      "text/plain": [
       "0"
      ]
     },
     "execution_count": 10,
     "metadata": {},
     "output_type": "execute_result"
    }
   ],
   "source": [
    "(tables1['rf_trn']['all_pred_trn'] != tables['rf_trn']['all_pred_trn']).sum()"
   ]
  },
  {
   "cell_type": "code",
   "execution_count": 11,
   "metadata": {
    "collapsed": false
   },
   "outputs": [
    {
     "data": {
      "text/plain": [
       "0"
      ]
     },
     "execution_count": 11,
     "metadata": {},
     "output_type": "execute_result"
    }
   ],
   "source": [
    "(tables1['rf_tst']['all_tst'] != tables['rf_tst']['all_tst']).sum()"
   ]
  },
  {
   "cell_type": "code",
   "execution_count": 12,
   "metadata": {
    "collapsed": false
   },
   "outputs": [
    {
     "data": {
      "text/plain": [
       "2541"
      ]
     },
     "execution_count": 12,
     "metadata": {},
     "output_type": "execute_result"
    }
   ],
   "source": [
    "(tables1['ps_trn']['all_trn'] != tables['ps_trn']['all_trn']).sum()"
   ]
  },
  {
   "cell_type": "code",
   "execution_count": 13,
   "metadata": {
    "collapsed": false
   },
   "outputs": [
    {
     "data": {
      "text/plain": [
       "1255"
      ]
     },
     "execution_count": 13,
     "metadata": {},
     "output_type": "execute_result"
    }
   ],
   "source": [
    "(tables1['ps_tst']['all_tst'] != tables['ps_tst']['all_tst']).sum()"
   ]
  },
  {
   "cell_type": "markdown",
   "metadata": {},
   "source": [
    "So now they are all the same"
   ]
  },
  {
   "cell_type": "markdown",
   "metadata": {},
   "source": [
    "### Question #1 sensitivity to number of trees"
   ]
  },
  {
   "cell_type": "code",
   "execution_count": 14,
   "metadata": {
    "collapsed": true
   },
   "outputs": [],
   "source": [
    "trees = [2, 5, 10, 17, 25, 35, 50, 100, 250, 350, 500, 650, 750, 1000, 2000]"
   ]
  },
  {
   "cell_type": "code",
   "execution_count": 15,
   "metadata": {
    "collapsed": true
   },
   "outputs": [],
   "source": [
    "tables = {}"
   ]
  },
  {
   "cell_type": "code",
   "execution_count": 16,
   "metadata": {
    "collapsed": true
   },
   "outputs": [],
   "source": [
    "for t in trees:\n",
    "    tables[t] = 'rf_{}'.format(t)\n",
    "tables[500] = 'revisions1'"
   ]
  },
  {
   "cell_type": "code",
   "execution_count": 17,
   "metadata": {
    "collapsed": false
   },
   "outputs": [
    {
     "name": "stdout",
     "output_type": "stream",
     "text": [
      "rf train rf_rf_2_train\n",
      "rf test rf_rf_2_test\n",
      "rf train rf_rf_35_train\n",
      "rf test rf_rf_35_test\n",
      "rf train rf_rf_100_train\n",
      "rf test rf_rf_100_test\n",
      "rf train rf_rf_5_train\n",
      "rf test rf_rf_5_test\n",
      "rf train rf_rf_1000_train\n",
      "rf test rf_rf_1000_test\n",
      "rf train rf_rf_10_train\n",
      "rf test rf_rf_10_test\n",
      "rf train rf_rf_750_train\n",
      "rf test rf_rf_750_test\n",
      "rf train rf_rf_2000_train\n",
      "rf test rf_rf_2000_test\n",
      "rf train rf_rf_17_train\n",
      "rf test rf_rf_17_test\n",
      "rf train rf_rf_50_train\n",
      "rf test rf_rf_50_test\n",
      "rf train rf_revisions1_train\n",
      "rf test rf_revisions1_test\n",
      "rf train rf_rf_25_train\n",
      "rf test rf_rf_25_test\n",
      "rf train rf_rf_250_train\n",
      "rf test rf_rf_250_test\n",
      "rf train rf_rf_650_train\n",
      "rf test rf_rf_650_test\n",
      "rf train rf_rf_350_train\n",
      "rf test rf_rf_350_test\n"
     ]
    }
   ],
   "source": [
    "dfs = []\n",
    "for t in tables:\n",
    "    df = make_results_df(models=['rf'], suffix=tables[t])\n",
    "    df.index = [t]\n",
    "    dfs.append(df)\n",
    "df_comb = pd.concat(dfs)"
   ]
  },
  {
   "cell_type": "code",
   "execution_count": 18,
   "metadata": {
    "collapsed": false
   },
   "outputs": [
    {
     "data": {
      "text/plain": [
       "<matplotlib.text.Text at 0xe526048>"
      ]
     },
     "execution_count": 18,
     "metadata": {},
     "output_type": "execute_result"
    },
    {
     "data": {
      "image/png": "[encoded data removed]",
      "text/plain": [
       "<matplotlib.figure.Figure at 0xe526828>"
      ]
     },
     "metadata": {},
     "output_type": "display_data"
    }
   ],
   "source": [
    "df_comb.sort_index(inplace=True)\n",
    "ax = df_comb.plot(style=\"o-\", figsize = (9,7), logx=True, grid=True)\n",
    "ax.legend(bbox_to_anchor=(1, 0.5))\n",
    "ax.set_xlabel('Number of trees')\n"
   ]
  },
  {
   "cell_type": "code",
   "execution_count": 19,
   "metadata": {
    "collapsed": false
   },
   "outputs": [
    {
     "data": {
      "text/plain": [
       "<matplotlib.text.Text at 0xdeed4a8>"
      ]
     },
     "execution_count": 19,
     "metadata": {},
     "output_type": "execute_result"
    },
    {
     "data": {
      "image/png": "[encoded data removed]",
      "text/plain": [
       "<matplotlib.figure.Figure at 0xee5dcc0>"
      ]
     },
     "metadata": {},
     "output_type": "display_data"
    }
   ],
   "source": [
    "ax = df_comb.rolling(5).mean().plot(style='o-', logx=True)\n",
    "ax.legend(bbox_to_anchor=(1, 0.5))\n",
    "ax.set_xlabel('Number of trees')"
   ]
  },
  {
   "cell_type": "markdown",
   "metadata": {},
   "source": [
    "### Question #2 what if only rainfall"
   ]
  },
  {
   "cell_type": "code",
   "execution_count": 20,
   "metadata": {
    "collapsed": true
   },
   "outputs": [],
   "source": [
    "suffixes = ['revisions1', 'only_rd', 'only_rain', 'no_rd', 'no_tides', 'top_5', 'top_2', 'revisions2', 'revisions2_no_tide']"
   ]
  },
  {
   "cell_type": "code",
   "execution_count": 21,
   "metadata": {
    "collapsed": false,
    "scrolled": true
   },
   "outputs": [
    {
     "name": "stdout",
     "output_type": "stream",
     "text": [
      "poisson train poisson_revisions1_train\n",
      "poisson test poisson_revisions1_test\n",
      "rf train rf_revisions1_train\n",
      "rf test rf_revisions1_test\n",
      "poisson train poisson_only_rd_train\n",
      "poisson test poisson_only_rd_test\n",
      "rf train rf_only_rd_train\n",
      "rf test rf_only_rd_test\n",
      "poisson train poisson_only_rain_train\n",
      "poisson test poisson_only_rain_test\n",
      "rf train rf_only_rain_train\n",
      "rf test rf_only_rain_test\n",
      "poisson train poisson_no_rd_train\n",
      "poisson test poisson_no_rd_test\n",
      "rf train rf_no_rd_train\n",
      "rf test rf_no_rd_test\n",
      "poisson train poisson_no_tides_train\n",
      "poisson test poisson_no_tides_test\n",
      "rf train rf_no_tides_train\n",
      "rf test rf_no_tides_test\n",
      "poisson train poisson_top_5_train\n",
      "poisson test poisson_top_5_test\n",
      "rf train rf_top_5_train\n",
      "rf test rf_top_5_test\n",
      "poisson train poisson_top_2_train\n",
      "poisson test poisson_top_2_test\n",
      "rf train rf_top_2_train\n",
      "rf test rf_top_2_test\n",
      "poisson train poisson_revisions2_train\n",
      "poisson test poisson_revisions2_test\n",
      "rf train rf_revisions2_train\n",
      "rf test rf_revisions2_test\n",
      "poisson train poisson_revisions2_no_tide_train\n",
      "poisson test poisson_revisions2_no_tide_test\n",
      "rf train rf_revisions2_no_tide_train\n",
      "rf test rf_revisions2_no_tide_test\n"
     ]
    }
   ],
   "source": [
    "dfs = []\n",
    "for s in suffixes:\n",
    "    df = make_results_df(suffix=s)\n",
    "    dfs.append(df)\n",
    "    df.index = [\"{}_{}\".format(i, s) for i in df.index]\n",
    "df_vars = pd.concat(dfs)\n",
    "\n",
    "    "
   ]
  },
  {
   "cell_type": "code",
   "execution_count": 22,
   "metadata": {
    "collapsed": false
   },
   "outputs": [
    {
     "data": {
      "text/html": [
       "<div>\n",
       "<style>\n",
       "    .dataframe thead tr:only-child th {\n",
       "        text-align: right;\n",
       "    }\n",
       "\n",
       "    .dataframe thead th {\n",
       "        text-align: left;\n",
       "    }\n",
       "\n",
       "    .dataframe tbody tr th {\n",
       "        vertical-align: top;\n",
       "    }\n",
       "</style>\n",
       "<table border=\"1\" class=\"dataframe\">\n",
       "  <thead>\n",
       "    <tr style=\"text-align: right;\">\n",
       "      <th></th>\n",
       "      <th>RMSE-Training</th>\n",
       "      <th>RMSE-Evaluation</th>\n",
       "      <th>MAE-Training</th>\n",
       "      <th>MAE-Evaluation</th>\n",
       "      <th>std-Training</th>\n",
       "      <th>std-Evaluation</th>\n",
       "    </tr>\n",
       "  </thead>\n",
       "  <tbody>\n",
       "    <tr>\n",
       "      <th>poisson_revisions1</th>\n",
       "      <td>9.95</td>\n",
       "      <td>29.36</td>\n",
       "      <td>6.36</td>\n",
       "      <td>15.90</td>\n",
       "      <td>5.26</td>\n",
       "      <td>17.66</td>\n",
       "    </tr>\n",
       "    <tr>\n",
       "      <th>rf_revisions1</th>\n",
       "      <td>9.79</td>\n",
       "      <td>21.41</td>\n",
       "      <td>5.38</td>\n",
       "      <td>12.29</td>\n",
       "      <td>2.55</td>\n",
       "      <td>4.70</td>\n",
       "    </tr>\n",
       "    <tr>\n",
       "      <th>poisson_only_rd</th>\n",
       "      <td>32.06</td>\n",
       "      <td>30.48</td>\n",
       "      <td>17.14</td>\n",
       "      <td>16.10</td>\n",
       "      <td>4.35</td>\n",
       "      <td>3.48</td>\n",
       "    </tr>\n",
       "    <tr>\n",
       "      <th>rf_only_rd</th>\n",
       "      <td>9.36</td>\n",
       "      <td>17.82</td>\n",
       "      <td>5.60</td>\n",
       "      <td>10.73</td>\n",
       "      <td>2.99</td>\n",
       "      <td>6.02</td>\n",
       "    </tr>\n",
       "    <tr>\n",
       "      <th>poisson_only_rain</th>\n",
       "      <td>29.00</td>\n",
       "      <td>32.01</td>\n",
       "      <td>14.19</td>\n",
       "      <td>15.61</td>\n",
       "      <td>7.65</td>\n",
       "      <td>7.86</td>\n",
       "    </tr>\n",
       "    <tr>\n",
       "      <th>rf_only_rain</th>\n",
       "      <td>12.21</td>\n",
       "      <td>26.83</td>\n",
       "      <td>6.72</td>\n",
       "      <td>14.09</td>\n",
       "      <td>2.37</td>\n",
       "      <td>4.62</td>\n",
       "    </tr>\n",
       "    <tr>\n",
       "      <th>poisson_no_rd</th>\n",
       "      <td>9.97</td>\n",
       "      <td>30.08</td>\n",
       "      <td>6.52</td>\n",
       "      <td>15.98</td>\n",
       "      <td>5.23</td>\n",
       "      <td>18.38</td>\n",
       "    </tr>\n",
       "    <tr>\n",
       "      <th>rf_no_rd</th>\n",
       "      <td>12.94</td>\n",
       "      <td>27.77</td>\n",
       "      <td>6.95</td>\n",
       "      <td>14.86</td>\n",
       "      <td>3.03</td>\n",
       "      <td>5.67</td>\n",
       "    </tr>\n",
       "    <tr>\n",
       "      <th>poisson_no_tides</th>\n",
       "      <td>12.55</td>\n",
       "      <td>37.14</td>\n",
       "      <td>8.17</td>\n",
       "      <td>18.93</td>\n",
       "      <td>6.63</td>\n",
       "      <td>12.81</td>\n",
       "    </tr>\n",
       "    <tr>\n",
       "      <th>rf_no_tides</th>\n",
       "      <td>10.85</td>\n",
       "      <td>24.95</td>\n",
       "      <td>5.91</td>\n",
       "      <td>13.84</td>\n",
       "      <td>2.60</td>\n",
       "      <td>4.81</td>\n",
       "    </tr>\n",
       "    <tr>\n",
       "      <th>poisson_top_5</th>\n",
       "      <td>18.42</td>\n",
       "      <td>26.97</td>\n",
       "      <td>10.61</td>\n",
       "      <td>14.87</td>\n",
       "      <td>7.19</td>\n",
       "      <td>9.31</td>\n",
       "    </tr>\n",
       "    <tr>\n",
       "      <th>rf_top_5</th>\n",
       "      <td>10.04</td>\n",
       "      <td>20.49</td>\n",
       "      <td>5.58</td>\n",
       "      <td>11.79</td>\n",
       "      <td>2.53</td>\n",
       "      <td>5.36</td>\n",
       "    </tr>\n",
       "    <tr>\n",
       "      <th>poisson_top_2</th>\n",
       "      <td>22.33</td>\n",
       "      <td>29.03</td>\n",
       "      <td>13.30</td>\n",
       "      <td>16.13</td>\n",
       "      <td>5.59</td>\n",
       "      <td>6.54</td>\n",
       "    </tr>\n",
       "    <tr>\n",
       "      <th>rf_top_2</th>\n",
       "      <td>7.68</td>\n",
       "      <td>17.81</td>\n",
       "      <td>4.35</td>\n",
       "      <td>10.58</td>\n",
       "      <td>2.79</td>\n",
       "      <td>5.52</td>\n",
       "    </tr>\n",
       "    <tr>\n",
       "      <th>poisson_revisions2</th>\n",
       "      <td>10.06</td>\n",
       "      <td>29.81</td>\n",
       "      <td>6.56</td>\n",
       "      <td>16.34</td>\n",
       "      <td>5.18</td>\n",
       "      <td>19.11</td>\n",
       "    </tr>\n",
       "    <tr>\n",
       "      <th>rf_revisions2</th>\n",
       "      <td>8.04</td>\n",
       "      <td>16.55</td>\n",
       "      <td>4.41</td>\n",
       "      <td>9.83</td>\n",
       "      <td>3.17</td>\n",
       "      <td>6.21</td>\n",
       "    </tr>\n",
       "    <tr>\n",
       "      <th>poisson_revisions2_no_tide</th>\n",
       "      <td>15.14</td>\n",
       "      <td>33.98</td>\n",
       "      <td>9.52</td>\n",
       "      <td>16.64</td>\n",
       "      <td>7.79</td>\n",
       "      <td>11.98</td>\n",
       "    </tr>\n",
       "    <tr>\n",
       "      <th>rf_revisions2_no_tide</th>\n",
       "      <td>8.28</td>\n",
       "      <td>17.21</td>\n",
       "      <td>4.87</td>\n",
       "      <td>10.07</td>\n",
       "      <td>3.17</td>\n",
       "      <td>6.41</td>\n",
       "    </tr>\n",
       "  </tbody>\n",
       "</table>\n",
       "</div>"
      ],
      "text/plain": [
       "                            RMSE-Training  RMSE-Evaluation  MAE-Training  \\\n",
       "poisson_revisions1                   9.95            29.36          6.36   \n",
       "rf_revisions1                        9.79            21.41          5.38   \n",
       "poisson_only_rd                     32.06            30.48         17.14   \n",
       "rf_only_rd                           9.36            17.82          5.60   \n",
       "poisson_only_rain                   29.00            32.01         14.19   \n",
       "rf_only_rain                        12.21            26.83          6.72   \n",
       "poisson_no_rd                        9.97            30.08          6.52   \n",
       "rf_no_rd                            12.94            27.77          6.95   \n",
       "poisson_no_tides                    12.55            37.14          8.17   \n",
       "rf_no_tides                         10.85            24.95          5.91   \n",
       "poisson_top_5                       18.42            26.97         10.61   \n",
       "rf_top_5                            10.04            20.49          5.58   \n",
       "poisson_top_2                       22.33            29.03         13.30   \n",
       "rf_top_2                             7.68            17.81          4.35   \n",
       "poisson_revisions2                  10.06            29.81          6.56   \n",
       "rf_revisions2                        8.04            16.55          4.41   \n",
       "poisson_revisions2_no_tide          15.14            33.98          9.52   \n",
       "rf_revisions2_no_tide                8.28            17.21          4.87   \n",
       "\n",
       "                            MAE-Evaluation  std-Training  std-Evaluation  \n",
       "poisson_revisions1                   15.90          5.26           17.66  \n",
       "rf_revisions1                        12.29          2.55            4.70  \n",
       "poisson_only_rd                      16.10          4.35            3.48  \n",
       "rf_only_rd                           10.73          2.99            6.02  \n",
       "poisson_only_rain                    15.61          7.65            7.86  \n",
       "rf_only_rain                         14.09          2.37            4.62  \n",
       "poisson_no_rd                        15.98          5.23           18.38  \n",
       "rf_no_rd                             14.86          3.03            5.67  \n",
       "poisson_no_tides                     18.93          6.63           12.81  \n",
       "rf_no_tides                          13.84          2.60            4.81  \n",
       "poisson_top_5                        14.87          7.19            9.31  \n",
       "rf_top_5                             11.79          2.53            5.36  \n",
       "poisson_top_2                        16.13          5.59            6.54  \n",
       "rf_top_2                             10.58          2.79            5.52  \n",
       "poisson_revisions2                   16.34          5.18           19.11  \n",
       "rf_revisions2                         9.83          3.17            6.21  \n",
       "poisson_revisions2_no_tide           16.64          7.79           11.98  \n",
       "rf_revisions2_no_tide                10.07          3.17            6.41  "
      ]
     },
     "execution_count": 22,
     "metadata": {},
     "output_type": "execute_result"
    }
   ],
   "source": [
    "df_vars"
   ]
  },
  {
   "cell_type": "code",
   "execution_count": 23,
   "metadata": {
    "collapsed": false
   },
   "outputs": [
    {
     "data": {
      "text/plain": [
       "0.16767865483418962"
      ]
     },
     "execution_count": 23,
     "metadata": {},
     "output_type": "execute_result"
    }
   ],
   "source": [
    "(21.41-17.82)/21.41"
   ]
  },
  {
   "cell_type": "code",
   "execution_count": 24,
   "metadata": {
    "collapsed": false
   },
   "outputs": [
    {
     "data": {
      "text/plain": [
       "0.042970574497898255"
      ]
     },
     "execution_count": 24,
     "metadata": {},
     "output_type": "execute_result"
    }
   ],
   "source": [
    "(21.41-20.49)/21.41"
   ]
  },
  {
   "cell_type": "code",
   "execution_count": 25,
   "metadata": {
    "collapsed": false
   },
   "outputs": [
    {
     "data": {
      "text/plain": [
       "0.1653432975245212"
      ]
     },
     "execution_count": 25,
     "metadata": {},
     "output_type": "execute_result"
    }
   ],
   "source": [
    "(24.95-21.41)/21.41"
   ]
  },
  {
   "cell_type": "code",
   "execution_count": 26,
   "metadata": {
    "collapsed": false
   },
   "outputs": [
    {
     "data": {
      "text/plain": [
       "<matplotlib.legend.Legend at 0xd92b198>"
      ]
     },
     "execution_count": 26,
     "metadata": {},
     "output_type": "execute_result"
    },
    {
     "data": {
      "image/png": "[encoded data removed]",
      "text/plain": [
       "<matplotlib.figure.Figure at 0xe4f9780>"
      ]
     },
     "metadata": {},
     "output_type": "display_data"
    }
   ],
   "source": [
    "ax = df_vars.plot.bar(figsize=(8,6))\n",
    "ax.legend(bbox_to_anchor=(1, 0.5))"
   ]
  },
  {
   "cell_type": "markdown",
   "metadata": {},
   "source": [
    "### Sensitivity to number of variables"
   ]
  },
  {
   "cell_type": "code",
   "execution_count": 27,
   "metadata": {
    "collapsed": true
   },
   "outputs": [],
   "source": [
    "suffixes = [4, 6, 8, 10, 12, 14, 18, 20]\n",
    "suffixes = ['rf_{}v'.format(i) for i in suffixes]"
   ]
  },
  {
   "cell_type": "code",
   "execution_count": 28,
   "metadata": {
    "collapsed": false,
    "scrolled": true
   },
   "outputs": [
    {
     "name": "stdout",
     "output_type": "stream",
     "text": [
      "rf train rf_rf_4v_train\n",
      "rf test rf_rf_4v_test\n",
      "rf train rf_rf_6v_train\n",
      "rf test rf_rf_6v_test\n",
      "rf train rf_rf_8v_train\n",
      "rf test rf_rf_8v_test\n",
      "rf train rf_rf_10v_train\n",
      "rf test rf_rf_10v_test\n",
      "rf train rf_rf_12v_train\n",
      "rf test rf_rf_12v_test\n",
      "rf train rf_rf_14v_train\n",
      "rf test rf_rf_14v_test\n",
      "rf train rf_rf_18v_train\n",
      "rf test rf_rf_18v_test\n",
      "rf train rf_rf_20v_train\n",
      "rf test rf_rf_20v_test\n"
     ]
    }
   ],
   "source": [
    "dfs = []\n",
    "for s in suffixes:\n",
    "    df = make_results_df(suffix=s, models=['rf'])\n",
    "    dfs.append(df)\n",
    "    df.index = [\"{}_{}\".format(i, s) for i in df.index]\n",
    "df_nvars = pd.concat(dfs)\n",
    "\n",
    "    "
   ]
  },
  {
   "cell_type": "code",
   "execution_count": 29,
   "metadata": {
    "collapsed": false
   },
   "outputs": [
    {
     "data": {
      "text/html": [
       "<div>\n",
       "<style>\n",
       "    .dataframe thead tr:only-child th {\n",
       "        text-align: right;\n",
       "    }\n",
       "\n",
       "    .dataframe thead th {\n",
       "        text-align: left;\n",
       "    }\n",
       "\n",
       "    .dataframe tbody tr th {\n",
       "        vertical-align: top;\n",
       "    }\n",
       "</style>\n",
       "<table border=\"1\" class=\"dataframe\">\n",
       "  <thead>\n",
       "    <tr style=\"text-align: right;\">\n",
       "      <th></th>\n",
       "      <th>RMSE-Training</th>\n",
       "      <th>RMSE-Evaluation</th>\n",
       "      <th>MAE-Training</th>\n",
       "      <th>MAE-Evaluation</th>\n",
       "      <th>std-Training</th>\n",
       "      <th>std-Evaluation</th>\n",
       "    </tr>\n",
       "  </thead>\n",
       "  <tbody>\n",
       "    <tr>\n",
       "      <th>rf_rf_4v</th>\n",
       "      <td>10.23</td>\n",
       "      <td>22.36</td>\n",
       "      <td>5.60</td>\n",
       "      <td>12.37</td>\n",
       "      <td>2.50</td>\n",
       "      <td>5.13</td>\n",
       "    </tr>\n",
       "    <tr>\n",
       "      <th>rf_rf_6v</th>\n",
       "      <td>9.41</td>\n",
       "      <td>20.22</td>\n",
       "      <td>5.18</td>\n",
       "      <td>11.70</td>\n",
       "      <td>2.62</td>\n",
       "      <td>5.10</td>\n",
       "    </tr>\n",
       "    <tr>\n",
       "      <th>rf_rf_8v</th>\n",
       "      <td>8.75</td>\n",
       "      <td>19.06</td>\n",
       "      <td>4.85</td>\n",
       "      <td>11.25</td>\n",
       "      <td>2.61</td>\n",
       "      <td>5.34</td>\n",
       "    </tr>\n",
       "    <tr>\n",
       "      <th>rf_rf_10v</th>\n",
       "      <td>8.29</td>\n",
       "      <td>17.66</td>\n",
       "      <td>4.63</td>\n",
       "      <td>10.69</td>\n",
       "      <td>2.62</td>\n",
       "      <td>4.66</td>\n",
       "    </tr>\n",
       "    <tr>\n",
       "      <th>rf_rf_12v</th>\n",
       "      <td>7.89</td>\n",
       "      <td>18.78</td>\n",
       "      <td>4.39</td>\n",
       "      <td>11.20</td>\n",
       "      <td>2.82</td>\n",
       "      <td>5.63</td>\n",
       "    </tr>\n",
       "    <tr>\n",
       "      <th>rf_rf_14v</th>\n",
       "      <td>7.78</td>\n",
       "      <td>17.97</td>\n",
       "      <td>4.22</td>\n",
       "      <td>10.66</td>\n",
       "      <td>2.84</td>\n",
       "      <td>6.50</td>\n",
       "    </tr>\n",
       "    <tr>\n",
       "      <th>rf_rf_18v</th>\n",
       "      <td>7.74</td>\n",
       "      <td>16.81</td>\n",
       "      <td>4.30</td>\n",
       "      <td>9.95</td>\n",
       "      <td>2.97</td>\n",
       "      <td>7.05</td>\n",
       "    </tr>\n",
       "    <tr>\n",
       "      <th>rf_rf_20v</th>\n",
       "      <td>7.74</td>\n",
       "      <td>16.81</td>\n",
       "      <td>4.30</td>\n",
       "      <td>9.95</td>\n",
       "      <td>2.97</td>\n",
       "      <td>7.05</td>\n",
       "    </tr>\n",
       "  </tbody>\n",
       "</table>\n",
       "</div>"
      ],
      "text/plain": [
       "           RMSE-Training  RMSE-Evaluation  MAE-Training  MAE-Evaluation  \\\n",
       "rf_rf_4v           10.23            22.36          5.60           12.37   \n",
       "rf_rf_6v            9.41            20.22          5.18           11.70   \n",
       "rf_rf_8v            8.75            19.06          4.85           11.25   \n",
       "rf_rf_10v           8.29            17.66          4.63           10.69   \n",
       "rf_rf_12v           7.89            18.78          4.39           11.20   \n",
       "rf_rf_14v           7.78            17.97          4.22           10.66   \n",
       "rf_rf_18v           7.74            16.81          4.30            9.95   \n",
       "rf_rf_20v           7.74            16.81          4.30            9.95   \n",
       "\n",
       "           std-Training  std-Evaluation  \n",
       "rf_rf_4v           2.50            5.13  \n",
       "rf_rf_6v           2.62            5.10  \n",
       "rf_rf_8v           2.61            5.34  \n",
       "rf_rf_10v          2.62            4.66  \n",
       "rf_rf_12v          2.82            5.63  \n",
       "rf_rf_14v          2.84            6.50  \n",
       "rf_rf_18v          2.97            7.05  \n",
       "rf_rf_20v          2.97            7.05  "
      ]
     },
     "execution_count": 29,
     "metadata": {},
     "output_type": "execute_result"
    }
   ],
   "source": [
    "df_nvars"
   ]
  },
  {
   "cell_type": "code",
   "execution_count": 30,
   "metadata": {
    "collapsed": false
   },
   "outputs": [
    {
     "data": {
      "text/plain": [
       "<matplotlib.legend.Legend at 0xe65d390>"
      ]
     },
     "execution_count": 30,
     "metadata": {},
     "output_type": "execute_result"
    },
    {
     "data": {
      "image/png": "[encoded data removed]",
      "text/plain": [
       "<matplotlib.figure.Figure at 0xe65d828>"
      ]
     },
     "metadata": {},
     "output_type": "display_data"
    }
   ],
   "source": [
    "ax = df_nvars.plot(figsize=(8,6))\n",
    "ax.legend(bbox_to_anchor=(1, 0.5))"
   ]
  },
  {
   "cell_type": "code",
   "execution_count": 31,
   "metadata": {
    "collapsed": false
   },
   "outputs": [],
   "source": [
    "df_tune = get_db_table_as_df(\"tuning_mtry\", dbfilename=db_filename)"
   ]
  },
  {
   "cell_type": "code",
   "execution_count": 32,
   "metadata": {
    "collapsed": false
   },
   "outputs": [],
   "source": [
    "del df_tune['row_names']"
   ]
  },
  {
   "cell_type": "code",
   "execution_count": 33,
   "metadata": {
    "collapsed": false
   },
   "outputs": [
    {
     "data": {
      "text/plain": [
       "<matplotlib.axes._subplots.AxesSubplot at 0xd773cf8>"
      ]
     },
     "execution_count": 33,
     "metadata": {},
     "output_type": "execute_result"
    },
    {
     "data": {
      "image/png": "[encoded data removed]",
      "text/plain": [
       "<matplotlib.figure.Figure at 0xf9897b8>"
      ]
     },
     "metadata": {},
     "output_type": "display_data"
    }
   ],
   "source": [
    "df_tune_piv = df_tune.pivot(columns=\"mtry\", values=\"OOBError\")\n",
    "df_tune_piv.mean().plot.bar()"
   ]
  },
  {
   "cell_type": "code",
   "execution_count": 34,
   "metadata": {
    "collapsed": false
   },
   "outputs": [],
   "source": [
    "j = 0\n",
    "l = []\n",
    "m = []\n",
    "first_time = True\n",
    "for i in df_tune.iterrows():\n",
    "    if i[1]['mtry'] == 1 and first_time == False:\n",
    "        sub_df = pd.DataFrame(m)\n",
    "        sub_df['num_run'] = j\n",
    "        sub_df['rank'] = sub_df['OOBError'].rank()\n",
    "        l.append(sub_df)\n",
    "        j += 1\n",
    "        m = []\n",
    "    first_time = False\n",
    "    m.append(i[1])"
   ]
  },
  {
   "cell_type": "code",
   "execution_count": 35,
   "metadata": {
    "collapsed": true
   },
   "outputs": [],
   "source": [
    "df_tune_counts = pd.concat(l)"
   ]
  },
  {
   "cell_type": "code",
   "execution_count": 36,
   "metadata": {
    "collapsed": false
   },
   "outputs": [
    {
     "data": {
      "text/html": [
       "<div>\n",
       "<style>\n",
       "    .dataframe thead tr:only-child th {\n",
       "        text-align: right;\n",
       "    }\n",
       "\n",
       "    .dataframe thead th {\n",
       "        text-align: left;\n",
       "    }\n",
       "\n",
       "    .dataframe tbody tr th {\n",
       "        vertical-align: top;\n",
       "    }\n",
       "</style>\n",
       "<table border=\"1\" class=\"dataframe\">\n",
       "  <thead>\n",
       "    <tr style=\"text-align: right;\">\n",
       "      <th></th>\n",
       "      <th>mtry</th>\n",
       "      <th>OOBError</th>\n",
       "      <th>num_run</th>\n",
       "      <th>rank</th>\n",
       "    </tr>\n",
       "  </thead>\n",
       "  <tbody>\n",
       "    <tr>\n",
       "      <th>0</th>\n",
       "      <td>1.0</td>\n",
       "      <td>46.183688</td>\n",
       "      <td>0</td>\n",
       "      <td>6.0</td>\n",
       "    </tr>\n",
       "    <tr>\n",
       "      <th>1</th>\n",
       "      <td>2.0</td>\n",
       "      <td>34.617008</td>\n",
       "      <td>0</td>\n",
       "      <td>5.0</td>\n",
       "    </tr>\n",
       "    <tr>\n",
       "      <th>2</th>\n",
       "      <td>4.0</td>\n",
       "      <td>28.417848</td>\n",
       "      <td>0</td>\n",
       "      <td>4.0</td>\n",
       "    </tr>\n",
       "    <tr>\n",
       "      <th>3</th>\n",
       "      <td>8.0</td>\n",
       "      <td>24.093781</td>\n",
       "      <td>0</td>\n",
       "      <td>3.0</td>\n",
       "    </tr>\n",
       "    <tr>\n",
       "      <th>4</th>\n",
       "      <td>16.0</td>\n",
       "      <td>22.988226</td>\n",
       "      <td>0</td>\n",
       "      <td>2.0</td>\n",
       "    </tr>\n",
       "  </tbody>\n",
       "</table>\n",
       "</div>"
      ],
      "text/plain": [
       "   mtry   OOBError  num_run  rank\n",
       "0   1.0  46.183688        0   6.0\n",
       "1   2.0  34.617008        0   5.0\n",
       "2   4.0  28.417848        0   4.0\n",
       "3   8.0  24.093781        0   3.0\n",
       "4  16.0  22.988226        0   2.0"
      ]
     },
     "execution_count": 36,
     "metadata": {},
     "output_type": "execute_result"
    }
   ],
   "source": [
    "df_tune_counts.head()"
   ]
  },
  {
   "cell_type": "code",
   "execution_count": 37,
   "metadata": {
    "collapsed": false
   },
   "outputs": [],
   "source": [
    "df_tune_rank_pivot = df_tune_counts.pivot_table(values='rank', columns='num_run', index='mtry')"
   ]
  },
  {
   "cell_type": "code",
   "execution_count": 38,
   "metadata": {
    "collapsed": false
   },
   "outputs": [
    {
     "data": {
      "text/html": [
       "<div>\n",
       "<style>\n",
       "    .dataframe thead tr:only-child th {\n",
       "        text-align: right;\n",
       "    }\n",
       "\n",
       "    .dataframe thead th {\n",
       "        text-align: left;\n",
       "    }\n",
       "\n",
       "    .dataframe tbody tr th {\n",
       "        vertical-align: top;\n",
       "    }\n",
       "</style>\n",
       "<table border=\"1\" class=\"dataframe\">\n",
       "  <thead>\n",
       "    <tr style=\"text-align: right;\">\n",
       "      <th>num_run</th>\n",
       "      <th>0</th>\n",
       "      <th>1</th>\n",
       "      <th>2</th>\n",
       "      <th>3</th>\n",
       "      <th>4</th>\n",
       "      <th>5</th>\n",
       "      <th>6</th>\n",
       "      <th>7</th>\n",
       "      <th>8</th>\n",
       "      <th>9</th>\n",
       "      <th>...</th>\n",
       "      <th>89</th>\n",
       "      <th>90</th>\n",
       "      <th>91</th>\n",
       "      <th>92</th>\n",
       "      <th>93</th>\n",
       "      <th>94</th>\n",
       "      <th>95</th>\n",
       "      <th>96</th>\n",
       "      <th>97</th>\n",
       "      <th>98</th>\n",
       "    </tr>\n",
       "    <tr>\n",
       "      <th>mtry</th>\n",
       "      <th></th>\n",
       "      <th></th>\n",
       "      <th></th>\n",
       "      <th></th>\n",
       "      <th></th>\n",
       "      <th></th>\n",
       "      <th></th>\n",
       "      <th></th>\n",
       "      <th></th>\n",
       "      <th></th>\n",
       "      <th></th>\n",
       "      <th></th>\n",
       "      <th></th>\n",
       "      <th></th>\n",
       "      <th></th>\n",
       "      <th></th>\n",
       "      <th></th>\n",
       "      <th></th>\n",
       "      <th></th>\n",
       "      <th></th>\n",
       "      <th></th>\n",
       "    </tr>\n",
       "  </thead>\n",
       "  <tbody>\n",
       "    <tr>\n",
       "      <th>1.0</th>\n",
       "      <td>6.0</td>\n",
       "      <td>5.0</td>\n",
       "      <td>6.0</td>\n",
       "      <td>6.0</td>\n",
       "      <td>6.0</td>\n",
       "      <td>6.0</td>\n",
       "      <td>6.0</td>\n",
       "      <td>6.0</td>\n",
       "      <td>6.0</td>\n",
       "      <td>6.0</td>\n",
       "      <td>...</td>\n",
       "      <td>6.0</td>\n",
       "      <td>6.0</td>\n",
       "      <td>6.0</td>\n",
       "      <td>6.0</td>\n",
       "      <td>6.0</td>\n",
       "      <td>5.0</td>\n",
       "      <td>6.0</td>\n",
       "      <td>6.0</td>\n",
       "      <td>6.0</td>\n",
       "      <td>6.0</td>\n",
       "    </tr>\n",
       "    <tr>\n",
       "      <th>2.0</th>\n",
       "      <td>5.0</td>\n",
       "      <td>4.0</td>\n",
       "      <td>5.0</td>\n",
       "      <td>5.0</td>\n",
       "      <td>5.0</td>\n",
       "      <td>5.0</td>\n",
       "      <td>5.0</td>\n",
       "      <td>5.0</td>\n",
       "      <td>5.0</td>\n",
       "      <td>5.0</td>\n",
       "      <td>...</td>\n",
       "      <td>5.0</td>\n",
       "      <td>5.0</td>\n",
       "      <td>5.0</td>\n",
       "      <td>5.0</td>\n",
       "      <td>5.0</td>\n",
       "      <td>4.0</td>\n",
       "      <td>5.0</td>\n",
       "      <td>5.0</td>\n",
       "      <td>5.0</td>\n",
       "      <td>5.0</td>\n",
       "    </tr>\n",
       "    <tr>\n",
       "      <th>4.0</th>\n",
       "      <td>4.0</td>\n",
       "      <td>3.0</td>\n",
       "      <td>4.0</td>\n",
       "      <td>4.0</td>\n",
       "      <td>4.0</td>\n",
       "      <td>4.0</td>\n",
       "      <td>4.0</td>\n",
       "      <td>4.0</td>\n",
       "      <td>4.0</td>\n",
       "      <td>4.0</td>\n",
       "      <td>...</td>\n",
       "      <td>4.0</td>\n",
       "      <td>4.0</td>\n",
       "      <td>4.0</td>\n",
       "      <td>4.0</td>\n",
       "      <td>4.0</td>\n",
       "      <td>3.0</td>\n",
       "      <td>4.0</td>\n",
       "      <td>4.0</td>\n",
       "      <td>4.0</td>\n",
       "      <td>4.0</td>\n",
       "    </tr>\n",
       "    <tr>\n",
       "      <th>8.0</th>\n",
       "      <td>3.0</td>\n",
       "      <td>1.0</td>\n",
       "      <td>3.0</td>\n",
       "      <td>3.0</td>\n",
       "      <td>3.0</td>\n",
       "      <td>3.0</td>\n",
       "      <td>3.0</td>\n",
       "      <td>3.0</td>\n",
       "      <td>2.0</td>\n",
       "      <td>3.0</td>\n",
       "      <td>...</td>\n",
       "      <td>3.0</td>\n",
       "      <td>3.0</td>\n",
       "      <td>3.0</td>\n",
       "      <td>3.0</td>\n",
       "      <td>3.0</td>\n",
       "      <td>1.0</td>\n",
       "      <td>3.0</td>\n",
       "      <td>3.0</td>\n",
       "      <td>3.0</td>\n",
       "      <td>3.0</td>\n",
       "    </tr>\n",
       "    <tr>\n",
       "      <th>16.0</th>\n",
       "      <td>2.0</td>\n",
       "      <td>2.0</td>\n",
       "      <td>2.0</td>\n",
       "      <td>2.0</td>\n",
       "      <td>1.0</td>\n",
       "      <td>1.0</td>\n",
       "      <td>1.0</td>\n",
       "      <td>2.0</td>\n",
       "      <td>1.0</td>\n",
       "      <td>1.0</td>\n",
       "      <td>...</td>\n",
       "      <td>2.0</td>\n",
       "      <td>1.0</td>\n",
       "      <td>1.0</td>\n",
       "      <td>1.0</td>\n",
       "      <td>2.0</td>\n",
       "      <td>2.0</td>\n",
       "      <td>2.0</td>\n",
       "      <td>1.0</td>\n",
       "      <td>1.0</td>\n",
       "      <td>1.0</td>\n",
       "    </tr>\n",
       "    <tr>\n",
       "      <th>17.0</th>\n",
       "      <td>1.0</td>\n",
       "      <td>NaN</td>\n",
       "      <td>1.0</td>\n",
       "      <td>1.0</td>\n",
       "      <td>2.0</td>\n",
       "      <td>2.0</td>\n",
       "      <td>2.0</td>\n",
       "      <td>1.0</td>\n",
       "      <td>3.0</td>\n",
       "      <td>2.0</td>\n",
       "      <td>...</td>\n",
       "      <td>1.0</td>\n",
       "      <td>2.0</td>\n",
       "      <td>2.0</td>\n",
       "      <td>2.0</td>\n",
       "      <td>1.0</td>\n",
       "      <td>NaN</td>\n",
       "      <td>1.0</td>\n",
       "      <td>2.0</td>\n",
       "      <td>2.0</td>\n",
       "      <td>2.0</td>\n",
       "    </tr>\n",
       "  </tbody>\n",
       "</table>\n",
       "<p>6 rows × 99 columns</p>\n",
       "</div>"
      ],
      "text/plain": [
       "num_run   0    1    2    3    4    5    6    7    8    9  ...    89   90   91  \\\n",
       "mtry                                                      ...                   \n",
       "1.0      6.0  5.0  6.0  6.0  6.0  6.0  6.0  6.0  6.0  6.0 ...   6.0  6.0  6.0   \n",
       "2.0      5.0  4.0  5.0  5.0  5.0  5.0  5.0  5.0  5.0  5.0 ...   5.0  5.0  5.0   \n",
       "4.0      4.0  3.0  4.0  4.0  4.0  4.0  4.0  4.0  4.0  4.0 ...   4.0  4.0  4.0   \n",
       "8.0      3.0  1.0  3.0  3.0  3.0  3.0  3.0  3.0  2.0  3.0 ...   3.0  3.0  3.0   \n",
       "16.0     2.0  2.0  2.0  2.0  1.0  1.0  1.0  2.0  1.0  1.0 ...   2.0  1.0  1.0   \n",
       "17.0     1.0  NaN  1.0  1.0  2.0  2.0  2.0  1.0  3.0  2.0 ...   1.0  2.0  2.0   \n",
       "\n",
       "num_run   92   93   94   95   96   97   98  \n",
       "mtry                                        \n",
       "1.0      6.0  6.0  5.0  6.0  6.0  6.0  6.0  \n",
       "2.0      5.0  5.0  4.0  5.0  5.0  5.0  5.0  \n",
       "4.0      4.0  4.0  3.0  4.0  4.0  4.0  4.0  \n",
       "8.0      3.0  3.0  1.0  3.0  3.0  3.0  3.0  \n",
       "16.0     1.0  2.0  2.0  2.0  1.0  1.0  1.0  \n",
       "17.0     2.0  1.0  NaN  1.0  2.0  2.0  2.0  \n",
       "\n",
       "[6 rows x 99 columns]"
      ]
     },
     "execution_count": 38,
     "metadata": {},
     "output_type": "execute_result"
    }
   ],
   "source": [
    "df_tune_rank_pivot.head(6)"
   ]
  },
  {
   "cell_type": "code",
   "execution_count": 39,
   "metadata": {
    "collapsed": false
   },
   "outputs": [
    {
     "data": {
      "text/plain": [
       "<matplotlib.axes._subplots.AxesSubplot at 0x106ceeb8>"
      ]
     },
     "execution_count": 39,
     "metadata": {},
     "output_type": "execute_result"
    },
    {
     "data": {
      "image/png": "[encoded data removed]",
      "text/plain": [
       "<matplotlib.figure.Figure at 0xe01efd0>"
      ]
     },
     "metadata": {},
     "output_type": "display_data"
    }
   ],
   "source": [
    "(df_tune_rank_pivot == 1).sum(1).plot.bar()"
   ]
  },
  {
   "cell_type": "markdown",
   "metadata": {},
   "source": [
    "## number of predictions outside 159 poisson"
   ]
  },
  {
   "cell_type": "code",
   "execution_count": 40,
   "metadata": {
    "collapsed": false
   },
   "outputs": [],
   "source": [
    "suffix = '_revisions2_'\n",
    "tables_rev2 = get_tables(suffix)"
   ]
  },
  {
   "cell_type": "code",
   "execution_count": 41,
   "metadata": {
    "collapsed": false
   },
   "outputs": [
    {
     "data": {
      "text/plain": [
       "{'ps_trn':       row_names  all_trn  all_pred_trn\n",
       " 0             1    101.0     87.781775\n",
       " 1             2      2.0      0.018436\n",
       " 2             3    110.0    110.538831\n",
       " 3             4    105.0    106.236694\n",
       " 4            10      2.0      1.499750\n",
       " 5            11     39.0     38.354316\n",
       " 6            12     18.0      5.004708\n",
       " 7            13      1.0      1.052861\n",
       " 8            14      5.0      0.344056\n",
       " 9            15     31.0     31.826234\n",
       " 10           16      3.0      0.084996\n",
       " 11           17      1.0      0.229902\n",
       " 12           19      1.0      0.040780\n",
       " 13           20      4.0      2.546393\n",
       " 14           21     10.0      5.886819\n",
       " 15           22      7.0     10.155219\n",
       " 16           23     10.0      3.277841\n",
       " 17           24      1.0      0.922080\n",
       " 18           26     16.0      0.854746\n",
       " 19           27    159.0    160.480709\n",
       " 20           28      1.0      0.053965\n",
       " 21           29      3.0      0.089965\n",
       " 22           30      6.0      0.015120\n",
       " 23           32      5.0      6.849457\n",
       " 24           34      8.0      2.549178\n",
       " 25           35      6.0     11.752951\n",
       " 26           36      2.0      0.150452\n",
       " 27           37      9.0      1.022975\n",
       " 28           40      8.0     11.464867\n",
       " 29           42     11.0     10.729371\n",
       " ...         ...      ...           ...\n",
       " 57439      2049      0.0      0.054119\n",
       " 57440      2050      0.0      0.050904\n",
       " 57441      2057      0.0      0.007860\n",
       " 57442      2058      0.0      0.159903\n",
       " 57443      2059      0.0      0.007988\n",
       " 57444      2062      0.0      0.035797\n",
       " 57445      2063      0.0      0.132407\n",
       " 57446      2067      0.0      0.017867\n",
       " 57447      2078      0.0      0.029878\n",
       " 57448      2080      0.0      0.017520\n",
       " 57449      2085      0.0      0.019815\n",
       " 57450      2086      0.0      0.038028\n",
       " 57451      2087      0.0      0.206184\n",
       " 57452      2088      0.0      0.018823\n",
       " 57453      2090      0.0      0.027487\n",
       " 57454      2091      0.0      0.080834\n",
       " 57455      2092      0.0      0.082915\n",
       " 57456      2095      0.0      0.015520\n",
       " 57457      2100      0.0      0.007682\n",
       " 57458      2101      0.0      0.012631\n",
       " 57459      2111      0.0      0.840060\n",
       " 57460      2112      0.0      0.016895\n",
       " 57461      2116      0.0      0.019428\n",
       " 57462      2119      0.0      0.011437\n",
       " 57463      2132      0.0      0.190289\n",
       " 57464      2143      0.0      0.127912\n",
       " 57465      2147      0.0      0.060336\n",
       " 57466      2164      0.0      0.358587\n",
       " 57467      2166      0.0      0.044481\n",
       " 57468      2167      0.0      0.027649\n",
       " \n",
       " [57469 rows x 3 columns], 'ps_tst':       row_names  all_tst  all_pred_tst\n",
       " 0             5     36.0     16.005220\n",
       " 1             6     35.0      1.357693\n",
       " 2             7      1.0      0.019771\n",
       " 3             8      5.0      1.168173\n",
       " 4             9      8.0      0.360320\n",
       " 5            18      2.0      0.312223\n",
       " 6            31     26.0      3.514888\n",
       " 7            33      1.0      0.111078\n",
       " 8            41     40.0     17.914064\n",
       " 9            43    101.0      7.369082\n",
       " 10           57      0.0      0.804607\n",
       " 11           59      0.0      0.169936\n",
       " 12           85      0.0      0.169134\n",
       " 13          119      0.0      0.060930\n",
       " 14          122      0.0      0.105334\n",
       " 15          130      0.0      0.029571\n",
       " 16          131      0.0      0.037860\n",
       " 17          143      0.0      0.029638\n",
       " 18          156      0.0      0.053849\n",
       " 19          165      0.0      0.021434\n",
       " 20          166      0.0      0.214093\n",
       " 21          186      0.0      0.009195\n",
       " 22          203      0.0      0.022997\n",
       " 23          204      0.0      0.021036\n",
       " 24          207      0.0      0.107954\n",
       " 25          217      0.0      0.034595\n",
       " 26          230      0.0      0.023577\n",
       " 27          231      0.0      0.083405\n",
       " 28          234      0.0      0.008479\n",
       " 29          238      0.0      0.020092\n",
       " ...         ...      ...           ...\n",
       " 24513      1861      0.0      0.016700\n",
       " 24514      1870      0.0      0.040685\n",
       " 24515      1890      0.0      0.126902\n",
       " 24516      1942      0.0      0.005625\n",
       " 24517      1957      0.0      0.005095\n",
       " 24518      1958      0.0      0.017680\n",
       " 24519      1966      0.0      0.003645\n",
       " 24520      1973      0.0      0.010163\n",
       " 24521      1994      0.0      0.015978\n",
       " 24522      1996      0.0      0.013618\n",
       " 24523      1997      0.0      0.074629\n",
       " 24524      2002      0.0      0.008843\n",
       " 24525      2007      0.0      0.047357\n",
       " 24526      2012      0.0      0.004064\n",
       " 24527      2032      0.0      0.144229\n",
       " 24528      2042      0.0      0.043040\n",
       " 24529      2051      0.0      0.040552\n",
       " 24530      2070      0.0      0.014525\n",
       " 24531      2071      0.0      0.034900\n",
       " 24532      2072      0.0      1.497156\n",
       " 24533      2083      0.0      0.047064\n",
       " 24534      2098      0.0      0.011140\n",
       " 24535      2099      0.0      0.066064\n",
       " 24536      2113      0.0      4.736392\n",
       " 24537      2120      0.0      0.394358\n",
       " 24538      2126      0.0      0.041315\n",
       " 24539      2130      0.0      0.228343\n",
       " 24540      2162      0.0      0.023815\n",
       " 24541      2163      0.0      0.022382\n",
       " 24542      2169      0.0      0.084426\n",
       " \n",
       " [24543 rows x 3 columns], 'rf_trn':       row_names  all_trn  all_pred_trn\n",
       " 0             1    101.0  8.669317e+01\n",
       " 1             2      2.0  9.853333e-01\n",
       " 2             3    110.0  1.083062e+02\n",
       " 3             4    105.0  9.547217e+01\n",
       " 4            10      2.0  4.698167e+00\n",
       " 5            11     39.0  2.602500e+01\n",
       " 6            12     18.0  1.111183e+01\n",
       " 7            13      1.0  7.846667e-01\n",
       " 8            14      5.0  2.565500e+00\n",
       " 9            15     31.0  2.933783e+01\n",
       " 10           16      3.0  1.519000e+00\n",
       " 11           17      1.0  7.441667e-01\n",
       " 12           19      1.0  4.880000e-01\n",
       " 13           20      4.0  5.524833e+00\n",
       " 14           21     10.0  8.021833e+00\n",
       " 15           22      7.0  1.061550e+01\n",
       " 16           23     10.0  1.106900e+01\n",
       " 17           24      1.0  6.356667e-01\n",
       " 18           26     16.0  1.380883e+01\n",
       " 19           27    159.0  1.252338e+02\n",
       " 20           28      1.0  5.973333e-01\n",
       " 21           29      3.0  1.889000e+00\n",
       " 22           30      6.0  3.765167e+00\n",
       " 23           32      5.0  1.028150e+01\n",
       " 24           34      8.0  1.027550e+01\n",
       " 25           35      6.0  5.982333e+00\n",
       " 26           36      2.0  1.132500e+00\n",
       " 27           37      9.0  4.922833e+00\n",
       " 28           40      8.0  1.330717e+01\n",
       " 29           42     11.0  1.185367e+01\n",
       " ...         ...      ...           ...\n",
       " 57439      2049      0.0 -3.097522e-15\n",
       " 57440      2050      0.0 -3.070877e-15\n",
       " 57441      2057      0.0 -2.049472e-15\n",
       " 57442      2058      0.0  6.000000e-02\n",
       " 57443      2059      0.0 -2.977618e-15\n",
       " 57444      2062      0.0 -3.108624e-15\n",
       " 57445      2063      0.0 -3.097522e-15\n",
       " 57446      2067      0.0 -2.997602e-15\n",
       " 57447      2078      0.0 -2.904343e-15\n",
       " 57448      2080      0.0 -2.993161e-15\n",
       " 57449      2085      0.0 -3.093081e-15\n",
       " 57450      2086      0.0 -2.837730e-15\n",
       " 57451      2087      0.0  3.000000e-02\n",
       " 57452      2088      0.0 -1.694200e-15\n",
       " 57453      2090      0.0 -2.835510e-15\n",
       " 57454      2091      0.0 -3.079759e-15\n",
       " 57455      2092      0.0 -3.033129e-15\n",
       " 57456      2095      0.0 -3.093081e-15\n",
       " 57457      2100      0.0 -2.235989e-15\n",
       " 57458      2101      0.0  1.000000e-02\n",
       " 57459      2111      0.0  3.980000e-01\n",
       " 57460      2112      0.0 -1.558753e-15\n",
       " 57461      2116      0.0 -2.091660e-15\n",
       " 57462      2119      0.0 -1.993961e-15\n",
       " 57463      2132      0.0 -3.022027e-15\n",
       " 57464      2143      0.0 -2.533529e-15\n",
       " 57465      2147      0.0 -3.097522e-15\n",
       " 57466      2164      0.0  1.510333e+00\n",
       " 57467      2166      0.0 -2.915446e-15\n",
       " 57468      2167      0.0 -2.247091e-15\n",
       " \n",
       " [57469 rows x 3 columns], 'rf_tst':       row_names  all_tst  all_pred_tst\n",
       " 0             5     36.0  4.886733e+01\n",
       " 1             6     35.0  8.086000e+00\n",
       " 2             7      1.0 -5.926371e-15\n",
       " 3             8      5.0  3.775000e-01\n",
       " 4             9      8.0  1.580000e-01\n",
       " 5            18      2.0  1.141083e+01\n",
       " 6            31     26.0  3.024400e+01\n",
       " 7            33      1.0  3.000000e-02\n",
       " 8            41     40.0  5.570400e+01\n",
       " 9            43    101.0  8.506633e+01\n",
       " 10           57      0.0  1.008667e+00\n",
       " 11           59      0.0 -2.275957e-15\n",
       " 12           85      0.0  1.792000e+00\n",
       " 13          119      0.0 -3.814726e-15\n",
       " 14          122      0.0  9.000000e-02\n",
       " 15          130      0.0 -5.744294e-15\n",
       " 16          131      0.0 -5.988543e-15\n",
       " 17          143      0.0  2.500000e-02\n",
       " 18          156      0.0  9.000000e-02\n",
       " 19          165      0.0 -4.249934e-15\n",
       " 20          166      0.0  2.800000e-01\n",
       " 21          186      0.0  1.340000e-01\n",
       " 22          203      0.0 -4.987122e-15\n",
       " 23          204      0.0 -4.596323e-15\n",
       " 24          207      0.0 -3.288481e-15\n",
       " 25          217      0.0 -5.950795e-15\n",
       " 26          230      0.0 -6.199485e-15\n",
       " 27          231      0.0  2.950000e-02\n",
       " 28          234      0.0 -6.388223e-15\n",
       " 29          238      0.0 -6.330492e-15\n",
       " ...         ...      ...           ...\n",
       " 24513      1861      0.0 -2.857714e-15\n",
       " 24514      1870      0.0 -3.097522e-15\n",
       " 24515      1890      0.0 -2.933209e-15\n",
       " 24516      1942      0.0  2.600000e-01\n",
       " 24517      1957      0.0 -2.551293e-15\n",
       " 24518      1958      0.0  1.000000e-02\n",
       " 24519      1966      0.0 -2.338130e-15\n",
       " 24520      1973      0.0 -2.755574e-15\n",
       " 24521      1994      0.0 -3.108624e-15\n",
       " 24522      1996      0.0  1.358333e-01\n",
       " 24523      1997      0.0  1.000000e-02\n",
       " 24524      2002      0.0  2.366667e-01\n",
       " 24525      2007      0.0 -2.660094e-15\n",
       " 24526      2012      0.0  2.000000e-02\n",
       " 24527      2032      0.0  6.533333e-02\n",
       " 24528      2042      0.0  8.500000e-02\n",
       " 24529      2051      0.0 -2.324807e-15\n",
       " 24530      2070      0.0 -3.093081e-15\n",
       " 24531      2071      0.0 -3.108624e-15\n",
       " 24532      2072      0.0  3.640000e-01\n",
       " 24533      2083      0.0 -3.044232e-15\n",
       " 24534      2098      0.0 -2.891021e-15\n",
       " 24535      2099      0.0  2.000000e-02\n",
       " 24536      2113      0.0  2.043333e+00\n",
       " 24537      2120      0.0  3.106667e-01\n",
       " 24538      2126      0.0  1.286667e-01\n",
       " 24539      2130      0.0  3.186667e-01\n",
       " 24540      2162      0.0 -2.084999e-15\n",
       " 24541      2163      0.0  5.000000e-03\n",
       " 24542      2169      0.0  1.300000e+00\n",
       " \n",
       " [24543 rows x 3 columns]}"
      ]
     },
     "execution_count": 41,
     "metadata": {},
     "output_type": "execute_result"
    }
   ],
   "source": [
    "tables_rev2"
   ]
  },
  {
   "cell_type": "code",
   "execution_count": 42,
   "metadata": {
    "collapsed": false
   },
   "outputs": [],
   "source": [
    "ps_prd = tables_rev2['ps_tst']['all_pred_tst']"
   ]
  },
  {
   "cell_type": "markdown",
   "metadata": {},
   "source": [
    "Percent above 159"
   ]
  },
  {
   "cell_type": "code",
   "execution_count": 43,
   "metadata": {
    "collapsed": false
   },
   "outputs": [
    {
     "data": {
      "text/plain": [
       "0.41559711526708226"
      ]
     },
     "execution_count": 43,
     "metadata": {},
     "output_type": "execute_result"
    }
   ],
   "source": [
    "(ps_prd > 159).sum()/float(len(ps_prd)) * 100"
   ]
  },
  {
   "cell_type": "markdown",
   "metadata": {},
   "source": [
    "Percent above 159 when prediction is at least 0.5 (rounds to 1)"
   ]
  },
  {
   "cell_type": "code",
   "execution_count": 44,
   "metadata": {
    "collapsed": false
   },
   "outputs": [
    {
     "data": {
      "text/plain": [
       "5.8553386911595871"
      ]
     },
     "execution_count": 44,
     "metadata": {},
     "output_type": "execute_result"
    }
   ],
   "source": [
    "(ps_prd > 159).sum()/float((ps_prd>0.5).sum()) * 100"
   ]
  },
  {
   "cell_type": "markdown",
   "metadata": {
    "collapsed": true
   },
   "source": [
    "### predictions when true flooding is 31"
   ]
  },
  {
   "cell_type": "code",
   "execution_count": 52,
   "metadata": {
    "collapsed": false
   },
   "outputs": [
    {
     "name": "stdout",
     "output_type": "stream",
     "text": [
      "29.2925403801\n",
      "91.6333979186\n",
      "3.50829001951\n"
     ]
    }
   ],
   "source": [
    "ps_tst = tables_rev2['ps_tst']\n",
    "pred_31 = ps_tst[(ps_tst['all_tst']==31) & (ps_tst['all_pred_tst']<159)]['all_pred_tst']\n",
    "print pred_31.mean()\n",
    "print pred_31.max()\n",
    "print pred_31.min()"
   ]
  },
  {
   "cell_type": "code",
   "execution_count": null,
   "metadata": {
    "collapsed": true
   },
   "outputs": [],
   "source": []
  }
 ],
 "metadata": {
  "kernelspec": {
   "display_name": "Python 2",
   "language": "python",
   "name": "python2"
  },
  "language_info": {
   "codemirror_mode": {
    "name": "ipython",
    "version": 2
   },
   "file_extension": ".py",
   "mimetype": "text/x-python",
   "name": "python",
   "nbconvert_exporter": "python",
   "pygments_lexer": "ipython2",
   "version": "2.7.13"
  }
 },
 "nbformat": 4,
 "nbformat_minor": 2
}
