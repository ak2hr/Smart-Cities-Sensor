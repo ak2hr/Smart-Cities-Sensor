{
 "cells": [
  {
   "cell_type": "markdown",
   "metadata": {},
   "source": [
    "# Predicting flood occurrence\n",
    "Flood occurrences in downtown Norfolk are predicted based on rain, tide levels, water table levels, and wind speed/direction. "
   ]
  },
  {
   "cell_type": "code",
   "execution_count": 1,
   "metadata": {
    "collapsed": false
   },
   "outputs": [
    {
     "name": "stderr",
     "output_type": "stream",
     "text": [
      "Warning message:\n",
      "\"package 'caret' was built under R version 3.3.3\"Loading required package: lattice\n",
      "Loading required package: ggplot2\n",
      "Warning message:\n",
      "\"package 'ggplot2' was built under R version 3.3.3\"Warning message:\n",
      "\"package 'ggfortify' was built under R version 3.3.3\"Warning message:\n",
      "\"package 'dplyr' was built under R version 3.3.3\"\n",
      "Attaching package: 'dplyr'\n",
      "\n",
      "The following objects are masked from 'package:stats':\n",
      "\n",
      "    filter, lag\n",
      "\n",
      "The following objects are masked from 'package:base':\n",
      "\n",
      "    intersect, setdiff, setequal, union\n",
      "\n",
      "Warning message:\n",
      "\"package 'rpart.plot' was built under R version 3.3.3\"Warning message:\n",
      "\"package 'RSQLite' was built under R version 3.3.3\"Warning message:\n",
      "\"package 'DBI' was built under R version 3.3.3\"Warning message:\n",
      "\"package 'randomForest' was built under R version 3.3.3\"randomForest 4.6-12\n",
      "Type rfNews() to see new features/changes/bug fixes.\n",
      "\n",
      "Attaching package: 'randomForest'\n",
      "\n",
      "The following object is masked from 'package:dplyr':\n",
      "\n",
      "    combine\n",
      "\n",
      "The following object is masked from 'package:ggplot2':\n",
      "\n",
      "    margin\n",
      "\n",
      "Warning message:\n",
      "\"package 'e1071' was built under R version 3.3.3\""
     ]
    }
   ],
   "source": [
    "repo = \"http://cran.us.r-project.org\"\n",
    "library(caret)\n",
    "library(ggfortify)\n",
    "library(ggplot2)\n",
    "library(dplyr)\n",
    "library(rpart)\n",
    "library(rpart.plot)\n",
    "library(RSQLite)\n",
    "library(DBI)\n",
    "library(randomForest)\n",
    "library(e1071)\n",
    "library(class)"
   ]
  },
  {
   "cell_type": "code",
   "execution_count": 2,
   "metadata": {
    "collapsed": true
   },
   "outputs": [],
   "source": [
    "classify_knn = function(pca.data, obs_data, point, k){\n",
    "  neighs = get_nn(pca.data, point, k)\n",
    "  neigh_data = obs_data[neighs,]\n",
    "  return(names(which.max(table(neigh_data$fld))))\n",
    "}"
   ]
  },
  {
   "cell_type": "code",
   "execution_count": 3,
   "metadata": {
    "collapsed": true
   },
   "outputs": [],
   "source": [
    "get_nn = function(d, point, k){\n",
    "  point = d[point, ]\n",
    "  dists = sort(sqrt(rowSums((t(t(d) - point))^2)))\n",
    "  close_points = names(dists)[2:k]\n",
    "  return(close_points)\n",
    "}"
   ]
  },
  {
   "cell_type": "code",
   "execution_count": 4,
   "metadata": {
    "collapsed": true
   },
   "outputs": [],
   "source": [
    "base_dir<- \"C:/Users/Jeff/Documents/research/Sadler_3rdPaper/manuscript/\"\n",
    "data_dir<- \"C:/Users/Jeff/Google Drive/research/Sadler_3rdPaper_Data/\"\n",
    "fig_dir <- paste(base_dir, \"Figures/general/\", sep=\"\")\n",
    "db_filename <- \"floodData.sqlite\""
   ]
  },
  {
   "cell_type": "code",
   "execution_count": 5,
   "metadata": {
    "collapsed": false
   },
   "outputs": [],
   "source": [
    "con = dbConnect(RSQLite::SQLite(), dbname=paste(data_dir, db_filename, sep=\"\"))"
   ]
  },
  {
   "cell_type": "code",
   "execution_count": 6,
   "metadata": {
    "collapsed": false
   },
   "outputs": [],
   "source": [
    "df = dbReadTable(con, 'flood_locations')"
   ]
  },
  {
   "cell_type": "code",
   "execution_count": 7,
   "metadata": {
    "collapsed": false
   },
   "outputs": [
    {
     "data": {
      "text/html": [
       "<ol class=list-inline>\n",
       "\t<li>'index'</li>\n",
       "\t<li>'location'</li>\n",
       "\t<li>'xcoord'</li>\n",
       "\t<li>'ycoord'</li>\n",
       "\t<li>'count'</li>\n",
       "\t<li>'twi'</li>\n",
       "\t<li>'elev_1'</li>\n",
       "\t<li>'dist_to_ba'</li>\n",
       "\t<li>'imp'</li>\n",
       "\t<li>'dist_to_wa'</li>\n",
       "\t<li>'is_dntn'</li>\n",
       "\t<li>'in_hague'</li>\n",
       "\t<li>'Structure1'</li>\n",
       "\t<li>'Rim_Elevat'</li>\n",
       "\t<li>'Invert_Ele'</li>\n",
       "\t<li>'Year_Insta'</li>\n",
       "\t<li>'Pipe_Geome'</li>\n",
       "\t<li>'Horizontal'</li>\n",
       "\t<li>'Vertical_D'</li>\n",
       "\t<li>'Pipe_Lengt'</li>\n",
       "\t<li>'Pipe_Mater'</li>\n",
       "\t<li>'Year_Ins_1'</li>\n",
       "\t<li>'Condition'</li>\n",
       "\t<li>'flood_pt'</li>\n",
       "</ol>\n"
      ],
      "text/latex": [
       "\\begin{enumerate*}\n",
       "\\item 'index'\n",
       "\\item 'location'\n",
       "\\item 'xcoord'\n",
       "\\item 'ycoord'\n",
       "\\item 'count'\n",
       "\\item 'twi'\n",
       "\\item 'elev\\_1'\n",
       "\\item 'dist\\_to\\_ba'\n",
       "\\item 'imp'\n",
       "\\item 'dist\\_to\\_wa'\n",
       "\\item 'is\\_dntn'\n",
       "\\item 'in\\_hague'\n",
       "\\item 'Structure1'\n",
       "\\item 'Rim\\_Elevat'\n",
       "\\item 'Invert\\_Ele'\n",
       "\\item 'Year\\_Insta'\n",
       "\\item 'Pipe\\_Geome'\n",
       "\\item 'Horizontal'\n",
       "\\item 'Vertical\\_D'\n",
       "\\item 'Pipe\\_Lengt'\n",
       "\\item 'Pipe\\_Mater'\n",
       "\\item 'Year\\_Ins\\_1'\n",
       "\\item 'Condition'\n",
       "\\item 'flood\\_pt'\n",
       "\\end{enumerate*}\n"
      ],
      "text/markdown": [
       "1. 'index'\n",
       "2. 'location'\n",
       "3. 'xcoord'\n",
       "4. 'ycoord'\n",
       "5. 'count'\n",
       "6. 'twi'\n",
       "7. 'elev_1'\n",
       "8. 'dist_to_ba'\n",
       "9. 'imp'\n",
       "10. 'dist_to_wa'\n",
       "11. 'is_dntn'\n",
       "12. 'in_hague'\n",
       "13. 'Structure1'\n",
       "14. 'Rim_Elevat'\n",
       "15. 'Invert_Ele'\n",
       "16. 'Year_Insta'\n",
       "17. 'Pipe_Geome'\n",
       "18. 'Horizontal'\n",
       "19. 'Vertical_D'\n",
       "20. 'Pipe_Lengt'\n",
       "21. 'Pipe_Mater'\n",
       "22. 'Year_Ins_1'\n",
       "23. 'Condition'\n",
       "24. 'flood_pt'\n",
       "\n",
       "\n"
      ],
      "text/plain": [
       " [1] \"index\"      \"location\"   \"xcoord\"     \"ycoord\"     \"count\"     \n",
       " [6] \"twi\"        \"elev_1\"     \"dist_to_ba\" \"imp\"        \"dist_to_wa\"\n",
       "[11] \"is_dntn\"    \"in_hague\"   \"Structure1\" \"Rim_Elevat\" \"Invert_Ele\"\n",
       "[16] \"Year_Insta\" \"Pipe_Geome\" \"Horizontal\" \"Vertical_D\" \"Pipe_Lengt\"\n",
       "[21] \"Pipe_Mater\" \"Year_Ins_1\" \"Condition\"  \"flood_pt\"  "
      ]
     },
     "metadata": {},
     "output_type": "display_data"
    }
   ],
   "source": [
    "colnames(df)"
   ]
  },
  {
   "cell_type": "code",
   "execution_count": 8,
   "metadata": {
    "collapsed": false
   },
   "outputs": [],
   "source": [
    "in_col_names = c('elev_1',\n",
    "                 #'dist_to_ba',\n",
    "                 'imp',\n",
    "                 'dist_to_wa',\n",
    "                 'Structure1',\n",
    "                 'twi',\n",
    "                 'Rim_Elevat',\n",
    "                 'Invert_Ele',\n",
    "                 'Year_Insta',\n",
    "                 'Pipe_Geome',\n",
    "                 'Horizontal',                 \n",
    "                 'Vertical_D',\n",
    "                 'Pipe_Lengt',\n",
    "                 'Pipe_Mater',\n",
    "                 'Vertical_D'\n",
    "                )\n",
    "out_col_name = 'flood_pt'\n",
    "model_data = df[, c(in_col_names, out_col_name)]\n",
    "model_data[,out_col_name] = model_data[,out_col_name]>0\n",
    "model_data[,out_col_name] = factor(model_data[,out_col_name])"
   ]
  },
  {
   "cell_type": "code",
   "execution_count": 9,
   "metadata": {
    "collapsed": false
   },
   "outputs": [],
   "source": [
    "model_data = na.omit(model_data)"
   ]
  },
  {
   "cell_type": "code",
   "execution_count": 10,
   "metadata": {
    "collapsed": true
   },
   "outputs": [],
   "source": [
    "model_data$Structure1 = as.factor(model_data$Structure1)\n",
    "model_data$Pipe_Geome = as.factor(model_data$Structure1)\n",
    "model_data$Pipe_Mater = as.factor(model_data$Structure1)"
   ]
  },
  {
   "cell_type": "code",
   "execution_count": 11,
   "metadata": {
    "collapsed": false
   },
   "outputs": [
    {
     "data": {
      "text/html": [
       "<table>\n",
       "<thead><tr><th scope=col>elev_1</th><th scope=col>imp</th><th scope=col>dist_to_wa</th><th scope=col>Structure1</th><th scope=col>twi</th><th scope=col>Rim_Elevat</th><th scope=col>Invert_Ele</th><th scope=col>Year_Insta</th><th scope=col>Pipe_Geome</th><th scope=col>Horizontal</th><th scope=col>Vertical_D</th><th scope=col>Pipe_Lengt</th><th scope=col>Pipe_Mater</th><th scope=col>Vertical_D.1</th><th scope=col>flood_pt</th></tr></thead>\n",
       "<tbody>\n",
       "\t<tr><td>0.663456</td><td> 74738  </td><td>353.265 </td><td>CBNS    </td><td>7.48559 </td><td>4.33    </td><td>2.42    </td><td>1938    </td><td>CBNS    </td><td> 9      </td><td>14      </td><td> 25     </td><td>CBNS    </td><td>14      </td><td>TRUE    </td></tr>\n",
       "\t<tr><td>0.641102</td><td> 78962  </td><td>354.661 </td><td>CBNS    </td><td>7.53130 </td><td>4.34    </td><td>1.85    </td><td>1938    </td><td>CBNS    </td><td>11      </td><td>18      </td><td> 25     </td><td>CBNS    </td><td>18      </td><td>TRUE    </td></tr>\n",
       "\t<tr><td>0.877023</td><td> 90165  </td><td>505.969 </td><td>CBNS    </td><td>8.72800 </td><td>4.98    </td><td>1.21    </td><td>1938    </td><td>CBNS    </td><td>24      </td><td> 0      </td><td>240     </td><td>CBNS    </td><td> 0      </td><td>TRUE    </td></tr>\n",
       "\t<tr><td>0.975468</td><td> 87607  </td><td>357.142 </td><td>CBNS    </td><td>7.75242 </td><td>5.59    </td><td>3.28    </td><td>1938    </td><td>CBNS    </td><td>15      </td><td> 0      </td><td> 30     </td><td>CBNS    </td><td> 0      </td><td>TRUE    </td></tr>\n",
       "\t<tr><td>1.023950</td><td> 92306  </td><td>612.997 </td><td>YB      </td><td>9.70383 </td><td>4.96    </td><td>3.10    </td><td>1938    </td><td>YB      </td><td>12      </td><td> 0      </td><td> 50     </td><td>YB      </td><td> 0      </td><td>TRUE    </td></tr>\n",
       "\t<tr><td>1.230800</td><td>100599  </td><td>639.295 </td><td>CBNS    </td><td>4.76609 </td><td>5.70    </td><td>3.02    </td><td>1938    </td><td>CBNS    </td><td>15      </td><td> 0      </td><td> 55     </td><td>CBNS    </td><td> 0      </td><td>TRUE    </td></tr>\n",
       "</tbody>\n",
       "</table>\n"
      ],
      "text/latex": [
       "\\begin{tabular}{r|lllllllllllllll}\n",
       " elev\\_1 & imp & dist\\_to\\_wa & Structure1 & twi & Rim\\_Elevat & Invert\\_Ele & Year\\_Insta & Pipe\\_Geome & Horizontal & Vertical\\_D & Pipe\\_Lengt & Pipe\\_Mater & Vertical\\_D.1 & flood\\_pt\\\\\n",
       "\\hline\n",
       "\t 0.663456 &  74738   & 353.265  & CBNS     & 7.48559  & 4.33     & 2.42     & 1938     & CBNS     &  9       & 14       &  25      & CBNS     & 14       & TRUE    \\\\\n",
       "\t 0.641102 &  78962   & 354.661  & CBNS     & 7.53130  & 4.34     & 1.85     & 1938     & CBNS     & 11       & 18       &  25      & CBNS     & 18       & TRUE    \\\\\n",
       "\t 0.877023 &  90165   & 505.969  & CBNS     & 8.72800  & 4.98     & 1.21     & 1938     & CBNS     & 24       &  0       & 240      & CBNS     &  0       & TRUE    \\\\\n",
       "\t 0.975468 &  87607   & 357.142  & CBNS     & 7.75242  & 5.59     & 3.28     & 1938     & CBNS     & 15       &  0       &  30      & CBNS     &  0       & TRUE    \\\\\n",
       "\t 1.023950 &  92306   & 612.997  & YB       & 9.70383  & 4.96     & 3.10     & 1938     & YB       & 12       &  0       &  50      & YB       &  0       & TRUE    \\\\\n",
       "\t 1.230800 & 100599   & 639.295  & CBNS     & 4.76609  & 5.70     & 3.02     & 1938     & CBNS     & 15       &  0       &  55      & CBNS     &  0       & TRUE    \\\\\n",
       "\\end{tabular}\n"
      ],
      "text/markdown": [
       "\n",
       "elev_1 | imp | dist_to_wa | Structure1 | twi | Rim_Elevat | Invert_Ele | Year_Insta | Pipe_Geome | Horizontal | Vertical_D | Pipe_Lengt | Pipe_Mater | Vertical_D.1 | flood_pt | \n",
       "|---|---|---|---|---|---|\n",
       "| 0.663456 |  74738   | 353.265  | CBNS     | 7.48559  | 4.33     | 2.42     | 1938     | CBNS     |  9       | 14       |  25      | CBNS     | 14       | TRUE     | \n",
       "| 0.641102 |  78962   | 354.661  | CBNS     | 7.53130  | 4.34     | 1.85     | 1938     | CBNS     | 11       | 18       |  25      | CBNS     | 18       | TRUE     | \n",
       "| 0.877023 |  90165   | 505.969  | CBNS     | 8.72800  | 4.98     | 1.21     | 1938     | CBNS     | 24       |  0       | 240      | CBNS     |  0       | TRUE     | \n",
       "| 0.975468 |  87607   | 357.142  | CBNS     | 7.75242  | 5.59     | 3.28     | 1938     | CBNS     | 15       |  0       |  30      | CBNS     |  0       | TRUE     | \n",
       "| 1.023950 |  92306   | 612.997  | YB       | 9.70383  | 4.96     | 3.10     | 1938     | YB       | 12       |  0       |  50      | YB       |  0       | TRUE     | \n",
       "| 1.230800 | 100599   | 639.295  | CBNS     | 4.76609  | 5.70     | 3.02     | 1938     | CBNS     | 15       |  0       |  55      | CBNS     |  0       | TRUE     | \n",
       "\n",
       "\n"
      ],
      "text/plain": [
       "  elev_1   imp    dist_to_wa Structure1 twi     Rim_Elevat Invert_Ele\n",
       "1 0.663456  74738 353.265    CBNS       7.48559 4.33       2.42      \n",
       "2 0.641102  78962 354.661    CBNS       7.53130 4.34       1.85      \n",
       "3 0.877023  90165 505.969    CBNS       8.72800 4.98       1.21      \n",
       "4 0.975468  87607 357.142    CBNS       7.75242 5.59       3.28      \n",
       "5 1.023950  92306 612.997    YB         9.70383 4.96       3.10      \n",
       "6 1.230800 100599 639.295    CBNS       4.76609 5.70       3.02      \n",
       "  Year_Insta Pipe_Geome Horizontal Vertical_D Pipe_Lengt Pipe_Mater\n",
       "1 1938       CBNS        9         14          25        CBNS      \n",
       "2 1938       CBNS       11         18          25        CBNS      \n",
       "3 1938       CBNS       24          0         240        CBNS      \n",
       "4 1938       CBNS       15          0          30        CBNS      \n",
       "5 1938       YB         12          0          50        YB        \n",
       "6 1938       CBNS       15          0          55        CBNS      \n",
       "  Vertical_D.1 flood_pt\n",
       "1 14           TRUE    \n",
       "2 18           TRUE    \n",
       "3  0           TRUE    \n",
       "4  0           TRUE    \n",
       "5  0           TRUE    \n",
       "6  0           TRUE    "
      ]
     },
     "metadata": {},
     "output_type": "display_data"
    }
   ],
   "source": [
    "head(model_data)"
   ]
  },
  {
   "cell_type": "code",
   "execution_count": 12,
   "metadata": {
    "collapsed": false
   },
   "outputs": [
    {
     "name": "stdout",
     "output_type": "stream",
     "text": [
      "FALSE  TRUE \n",
      "  682   680 \n"
     ]
    },
    {
     "data": {
      "text/html": [
       "0.997067448680352"
      ],
      "text/latex": [
       "0.997067448680352"
      ],
      "text/markdown": [
       "0.997067448680352"
      ],
      "text/plain": [
       "[1] 0.9970674"
      ]
     },
     "metadata": {},
     "output_type": "display_data"
    }
   ],
   "source": [
    "print(summary(model_data[,out_col_name]))\n",
    "sum(as.numeric(model_data[,out_col_name] == TRUE))/sum(as.numeric(model_data[,out_col_name] == FALSE))"
   ]
  },
  {
   "cell_type": "markdown",
   "metadata": {},
   "source": [
    "### Partition data into training and testing sets"
   ]
  },
  {
   "cell_type": "code",
   "execution_count": 13,
   "metadata": {
    "collapsed": false
   },
   "outputs": [
    {
     "name": "stdout",
     "output_type": "stream",
     "text": [
      "[1] 1362\n"
     ]
    },
    {
     "data": {
      "text/html": [
       "408"
      ],
      "text/latex": [
       "408"
      ],
      "text/markdown": [
       "408"
      ],
      "text/plain": [
       "[1] 408"
      ]
     },
     "metadata": {},
     "output_type": "display_data"
    }
   ],
   "source": [
    "prt = createDataPartition(model_data[, out_col_name], p=0.7)\n",
    "train_ind = prt$Resample1\n",
    "test_ind = rownames(model_data[-train_ind,])\n",
    "print(length(test_ind) + length(train_ind))\n",
    "# length(rownames(model_data[model_data[train_ind, out_col_name]==TRUE]))\n",
    "length(test_ind)"
   ]
  },
  {
   "cell_type": "code",
   "execution_count": 14,
   "metadata": {
    "collapsed": false
   },
   "outputs": [],
   "source": [
    "train_data = model_data[train_ind, ]\n",
    "test_data = model_data[test_ind, ]"
   ]
  },
  {
   "cell_type": "code",
   "execution_count": 15,
   "metadata": {
    "collapsed": true
   },
   "outputs": [],
   "source": [
    "tst_out = model_data[test_ind, out_col_name]\n",
    "trn_out = model_data[train_ind, out_col_name]"
   ]
  },
  {
   "cell_type": "markdown",
   "metadata": {},
   "source": [
    "### Downsample negative records in training dataset"
   ]
  },
  {
   "cell_type": "code",
   "execution_count": 16,
   "metadata": {
    "collapsed": false
   },
   "outputs": [],
   "source": [
    "nfld_train = rownames(train_data[train_data[, out_col_name] == FALSE,])\n",
    "fld_train = rownames(train_data[train_data[, out_col_name] == TRUE,])\n",
    "nfld_test = rownames(test_data[test_data[, out_col_name] == FALSE,])\n",
    "fld_test = rownames(test_data[test_data[, out_col_name] == TRUE,])\n",
    "down_sample_percent = 1\n",
    "nfld_train_dwnsmp = sample(nfld_train, down_sample_percent*length(nfld_train))\n",
    "train_ind = c(fld_train, nfld_train_dwnsmp)"
   ]
  },
  {
   "cell_type": "code",
   "execution_count": 17,
   "metadata": {
    "collapsed": false
   },
   "outputs": [],
   "source": [
    "train_in_data = model_data[train_ind, in_col_names]\n",
    "test_in_data = model_data[test_ind, in_col_names]"
   ]
  },
  {
   "cell_type": "markdown",
   "metadata": {},
   "source": [
    "### Decision Trees"
   ]
  },
  {
   "cell_type": "code",
   "execution_count": 18,
   "metadata": {
    "collapsed": false
   },
   "outputs": [],
   "source": [
    "dt_fmla = as.formula(paste(out_col_name, \"~\", paste(in_col_names, collapse=\"+\")))\n",
    "dt_train_data = model_data[train_ind, ]\n",
    "dt_test_data = model_data[test_ind, in_col_names]"
   ]
  },
  {
   "cell_type": "code",
   "execution_count": 19,
   "metadata": {
    "collapsed": false
   },
   "outputs": [
    {
     "name": "stdout",
     "output_type": "stream",
     "text": [
      "\n",
      "Classification tree:\n",
      "rpart(formula = dt_fmla, data = dt_train_data, method = \"class\", \n",
      "    minsplit = 2)\n",
      "\n",
      "Variables actually used in tree construction:\n",
      "[1] elev_1     Horizontal twi        Year_Insta\n",
      "\n",
      "Root node error: 476/954 = 0.49895\n",
      "\n",
      "n= 954 \n",
      "\n",
      "        CP nsplit rel error  xerror     xstd\n",
      "1 0.344538      0   1.00000 1.10504 0.032273\n",
      "2 0.026261      1   0.65546 0.66176 0.030516\n",
      "3 0.016807      3   0.60294 0.69958 0.030930\n",
      "4 0.012605      5   0.56933 0.70798 0.031015\n",
      "5 0.010000      7   0.54412 0.69328 0.030865\n"
     ]
    }
   ],
   "source": [
    "fit = rpart(dt_fmla, method='class', data=dt_train_data, minsplit=2)\n",
    "printcp(fit)"
   ]
  },
  {
   "cell_type": "code",
   "execution_count": 20,
   "metadata": {
    "collapsed": false
   },
   "outputs": [
    {
     "data": {
      "text/html": [
       "<strong>png:</strong> 2"
      ],
      "text/latex": [
       "\\textbf{png:} 2"
      ],
      "text/markdown": [
       "**png:** 2"
      ],
      "text/plain": [
       "png \n",
       "  2 "
      ]
     },
     "metadata": {},
     "output_type": "display_data"
    },
    {
     "data": {
      "image/png": "[encoded data removed]",
      "text/plain": [
       "plot without title"
      ]
     },
     "metadata": {},
     "output_type": "display_data"
    }
   ],
   "source": [
    "tiff(paste(fig_dir, \"Plot2.tif\"), width=9, height=6, units='in', res = 300)\n",
    "rpart.plot(fit, under=TRUE, cex=0.9, extra=1, varlen = 6)\n",
    "dev.off()\n",
    "rpart.plot(fit, under=TRUE, cex=0.9, extra=1, varlen = 6)"
   ]
  },
  {
   "cell_type": "code",
   "execution_count": 21,
   "metadata": {
    "collapsed": false
   },
   "outputs": [
    {
     "data": {
      "image/png": "[encoded data removed]",
      "text/plain": [
       "plot without title"
      ]
     },
     "metadata": {},
     "output_type": "display_data"
    }
   ],
   "source": [
    "pfit<- prune(fit, cp=fit$cptable[which.min(fit$cptable[,\"xerror\"]),\"CP\"])\n",
    "rpart.plot(pfit, under=TRUE, cex=0.9, extra=1, varlen = 6)"
   ]
  },
  {
   "cell_type": "markdown",
   "metadata": {},
   "source": [
    "#### Decision Tree training results"
   ]
  },
  {
   "cell_type": "code",
   "execution_count": 22,
   "metadata": {
    "collapsed": false
   },
   "outputs": [
    {
     "data": {
      "text/plain": [
       "       pred\n",
       "trn_out FALSE TRUE\n",
       "  FALSE   344  134\n",
       "  TRUE    362  114"
      ]
     },
     "metadata": {},
     "output_type": "display_data"
    }
   ],
   "source": [
    "pred = predict(pfit, dt_train_data[, in_col_names], type = 'class')\n",
    "table(trn_out, pred)"
   ]
  },
  {
   "cell_type": "markdown",
   "metadata": {},
   "source": [
    "#### Decision Tree testing results"
   ]
  },
  {
   "cell_type": "code",
   "execution_count": 23,
   "metadata": {
    "collapsed": false
   },
   "outputs": [
    {
     "data": {
      "text/plain": [
       "       pred\n",
       "tst_out FALSE TRUE\n",
       "  FALSE   183   21\n",
       "  TRUE    114   90"
      ]
     },
     "metadata": {},
     "output_type": "display_data"
    }
   ],
   "source": [
    "pred = predict(pfit, dt_test_data, type = 'class')\n",
    "table(tst_out, pred)"
   ]
  },
  {
   "cell_type": "markdown",
   "metadata": {},
   "source": [
    "### Random Forests"
   ]
  },
  {
   "cell_type": "code",
   "execution_count": 24,
   "metadata": {
    "collapsed": false
   },
   "outputs": [
    {
     "data": {
      "text/plain": [
       "       pred\n",
       "trn_out FALSE TRUE\n",
       "  FALSE   238  240\n",
       "  TRUE    240  236"
      ]
     },
     "metadata": {},
     "output_type": "display_data"
    }
   ],
   "source": [
    "forest = randomForest(dt_fmla, data = dt_train_data, importance = TRUE, type=\"classification\", nodesize=2)\n",
    "\n",
    "pred = predict(forest, dt_train_data[, in_col_names])\n",
    "table(trn_out, pred)"
   ]
  },
  {
   "cell_type": "code",
   "execution_count": 25,
   "metadata": {
    "collapsed": false
   },
   "outputs": [
    {
     "data": {
      "text/plain": [
       "       pred\n",
       "tst_out FALSE TRUE\n",
       "  FALSE   141   63\n",
       "  TRUE     66  138"
      ]
     },
     "metadata": {},
     "output_type": "display_data"
    },
    {
     "data": {
      "text/html": [
       "<table>\n",
       "<thead><tr><th></th><th scope=col>FALSE</th><th scope=col>TRUE</th><th scope=col>MeanDecreaseAccuracy</th><th scope=col>MeanDecreaseGini</th></tr></thead>\n",
       "<tbody>\n",
       "\t<tr><th scope=row>elev_1</th><td>0.0590228369 </td><td> 0.0609389934</td><td>0.0597990959 </td><td>82.455673    </td></tr>\n",
       "\t<tr><th scope=row>imp</th><td>0.0079152738 </td><td> 0.0032070296</td><td>0.0054772905 </td><td>44.584663    </td></tr>\n",
       "\t<tr><th scope=row>dist_to_wa</th><td>0.0146031282 </td><td> 0.0036806974</td><td>0.0090934900 </td><td>44.909518    </td></tr>\n",
       "\t<tr><th scope=row>Structure1</th><td>0.0040550813 </td><td>-0.0020362251</td><td>0.0009892954 </td><td> 7.786978    </td></tr>\n",
       "\t<tr><th scope=row>twi</th><td>0.0183895808 </td><td> 0.0173631934</td><td>0.0177758574 </td><td>57.010807    </td></tr>\n",
       "\t<tr><th scope=row>Rim_Elevat</th><td>0.0458630269 </td><td> 0.0234558698</td><td>0.0345140910 </td><td>61.121803    </td></tr>\n",
       "\t<tr><th scope=row>Invert_Ele</th><td>0.0238477268 </td><td> 0.0166281282</td><td>0.0201298773 </td><td>50.512537    </td></tr>\n",
       "\t<tr><th scope=row>Year_Insta</th><td>0.0140595525 </td><td> 0.0001849446</td><td>0.0070894052 </td><td>31.851118    </td></tr>\n",
       "\t<tr><th scope=row>Pipe_Geome</th><td>0.0051208034 </td><td>-0.0013883300</td><td>0.0018236917 </td><td> 8.336899    </td></tr>\n",
       "\t<tr><th scope=row>Horizontal</th><td>0.0020480442 </td><td> 0.0065362085</td><td>0.0042884125 </td><td>19.761517    </td></tr>\n",
       "\t<tr><th scope=row>Vertical_D</th><td>0.0009138074 </td><td> 0.0002377342</td><td>0.0005522442 </td><td> 4.867723    </td></tr>\n",
       "\t<tr><th scope=row>Pipe_Lengt</th><td>0.0027977291 </td><td> 0.0012552385</td><td>0.0020578911 </td><td>35.478436    </td></tr>\n",
       "\t<tr><th scope=row>Pipe_Mater</th><td>0.0052070233 </td><td>-0.0015072768</td><td>0.0018411788 </td><td> 7.789209    </td></tr>\n",
       "</tbody>\n",
       "</table>\n"
      ],
      "text/latex": [
       "\\begin{tabular}{r|llll}\n",
       "  & FALSE & TRUE & MeanDecreaseAccuracy & MeanDecreaseGini\\\\\n",
       "\\hline\n",
       "\telev\\_1 & 0.0590228369  &  0.0609389934 & 0.0597990959  & 82.455673    \\\\\n",
       "\timp & 0.0079152738  &  0.0032070296 & 0.0054772905  & 44.584663    \\\\\n",
       "\tdist\\_to\\_wa & 0.0146031282  &  0.0036806974 & 0.0090934900  & 44.909518    \\\\\n",
       "\tStructure1 & 0.0040550813  & -0.0020362251 & 0.0009892954  &  7.786978    \\\\\n",
       "\ttwi & 0.0183895808  &  0.0173631934 & 0.0177758574  & 57.010807    \\\\\n",
       "\tRim\\_Elevat & 0.0458630269  &  0.0234558698 & 0.0345140910  & 61.121803    \\\\\n",
       "\tInvert\\_Ele & 0.0238477268  &  0.0166281282 & 0.0201298773  & 50.512537    \\\\\n",
       "\tYear\\_Insta & 0.0140595525  &  0.0001849446 & 0.0070894052  & 31.851118    \\\\\n",
       "\tPipe\\_Geome & 0.0051208034  & -0.0013883300 & 0.0018236917  &  8.336899    \\\\\n",
       "\tHorizontal & 0.0020480442  &  0.0065362085 & 0.0042884125  & 19.761517    \\\\\n",
       "\tVertical\\_D & 0.0009138074  &  0.0002377342 & 0.0005522442  &  4.867723    \\\\\n",
       "\tPipe\\_Lengt & 0.0027977291  &  0.0012552385 & 0.0020578911  & 35.478436    \\\\\n",
       "\tPipe\\_Mater & 0.0052070233  & -0.0015072768 & 0.0018411788  &  7.789209    \\\\\n",
       "\\end{tabular}\n"
      ],
      "text/markdown": [
       "\n",
       "| <!--/--> | FALSE | TRUE | MeanDecreaseAccuracy | MeanDecreaseGini | \n",
       "|---|---|---|---|---|---|---|---|---|---|---|---|---|\n",
       "| elev_1 | 0.0590228369  |  0.0609389934 | 0.0597990959  | 82.455673     | \n",
       "| imp | 0.0079152738  |  0.0032070296 | 0.0054772905  | 44.584663     | \n",
       "| dist_to_wa | 0.0146031282  |  0.0036806974 | 0.0090934900  | 44.909518     | \n",
       "| Structure1 | 0.0040550813  | -0.0020362251 | 0.0009892954  |  7.786978     | \n",
       "| twi | 0.0183895808  |  0.0173631934 | 0.0177758574  | 57.010807     | \n",
       "| Rim_Elevat | 0.0458630269  |  0.0234558698 | 0.0345140910  | 61.121803     | \n",
       "| Invert_Ele | 0.0238477268  |  0.0166281282 | 0.0201298773  | 50.512537     | \n",
       "| Year_Insta | 0.0140595525  |  0.0001849446 | 0.0070894052  | 31.851118     | \n",
       "| Pipe_Geome | 0.0051208034  | -0.0013883300 | 0.0018236917  |  8.336899     | \n",
       "| Horizontal | 0.0020480442  |  0.0065362085 | 0.0042884125  | 19.761517     | \n",
       "| Vertical_D | 0.0009138074  |  0.0002377342 | 0.0005522442  |  4.867723     | \n",
       "| Pipe_Lengt | 0.0027977291  |  0.0012552385 | 0.0020578911  | 35.478436     | \n",
       "| Pipe_Mater | 0.0052070233  | -0.0015072768 | 0.0018411788  |  7.789209     | \n",
       "\n",
       "\n"
      ],
      "text/plain": [
       "           FALSE        TRUE          MeanDecreaseAccuracy MeanDecreaseGini\n",
       "elev_1     0.0590228369  0.0609389934 0.0597990959         82.455673       \n",
       "imp        0.0079152738  0.0032070296 0.0054772905         44.584663       \n",
       "dist_to_wa 0.0146031282  0.0036806974 0.0090934900         44.909518       \n",
       "Structure1 0.0040550813 -0.0020362251 0.0009892954          7.786978       \n",
       "twi        0.0183895808  0.0173631934 0.0177758574         57.010807       \n",
       "Rim_Elevat 0.0458630269  0.0234558698 0.0345140910         61.121803       \n",
       "Invert_Ele 0.0238477268  0.0166281282 0.0201298773         50.512537       \n",
       "Year_Insta 0.0140595525  0.0001849446 0.0070894052         31.851118       \n",
       "Pipe_Geome 0.0051208034 -0.0013883300 0.0018236917          8.336899       \n",
       "Horizontal 0.0020480442  0.0065362085 0.0042884125         19.761517       \n",
       "Vertical_D 0.0009138074  0.0002377342 0.0005522442          4.867723       \n",
       "Pipe_Lengt 0.0027977291  0.0012552385 0.0020578911         35.478436       \n",
       "Pipe_Mater 0.0052070233 -0.0015072768 0.0018411788          7.789209       "
      ]
     },
     "metadata": {},
     "output_type": "display_data"
    }
   ],
   "source": [
    "pred = predict(forest, dt_test_data)\n",
    "table(tst_out, pred)\n",
    "forest$importance"
   ]
  },
  {
   "cell_type": "code",
   "execution_count": 26,
   "metadata": {
    "collapsed": false
   },
   "outputs": [
    {
     "data": {
      "image/png": "[encoded data removed]",
      "text/plain": [
       "plot without title"
      ]
     },
     "metadata": {},
     "output_type": "display_data"
    }
   ],
   "source": [
    "impo = as.data.frame(forest$importance)\n",
    "impo = impo[order(-impo$MeanDecreaseGini),]\n",
    "par(las=2)\n",
    "barplot(impo$MeanDecreaseGini, names.arg=rownames(impo), ylim = c(0, 70))"
   ]
  },
  {
   "cell_type": "code",
   "execution_count": null,
   "metadata": {
    "collapsed": true
   },
   "outputs": [],
   "source": []
  }
 ],
 "metadata": {
  "kernelspec": {
   "display_name": "R",
   "language": "R",
   "name": "ir"
  },
  "language_info": {
   "codemirror_mode": "r",
   "file_extension": ".r",
   "mimetype": "text/x-r-source",
   "name": "R",
   "pygments_lexer": "r",
   "version": "3.3.2"
  }
 },
 "nbformat": 4,
 "nbformat_minor": 2
}
