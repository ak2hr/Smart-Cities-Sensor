{
 "cells": [
  {
   "cell_type": "markdown",
   "metadata": {},
   "source": [
    "# Predicting flood occurrence\n",
    "Flood occurrences in downtown Norfolk are predicted based on rain, tide levels, water table levels, and wind speed/direction. "
   ]
  },
  {
   "cell_type": "code",
   "execution_count": 33,
   "metadata": {
    "collapsed": false
   },
   "outputs": [],
   "source": [
    "repo = \"http://cran.us.r-project.org\"\n",
    "library(caret)\n",
    "library(ggfortify)\n",
    "library(ggplot2)\n",
    "library(dplyr)\n",
    "library(rpart)\n",
    "library(rpart.plot)\n",
    "library(RSQLite)\n",
    "library(DBI)\n",
    "library(randomForest)\n",
    "library(e1071)\n",
    "library(class)"
   ]
  },
  {
   "cell_type": "code",
   "execution_count": 34,
   "metadata": {
    "collapsed": true
   },
   "outputs": [],
   "source": [
    "classify_knn = function(pca.data, obs_data, point, k){\n",
    "  neighs = get_nn(pca.data, point, k)\n",
    "  neigh_data = obs_data[neighs,]\n",
    "  return(names(which.max(table(neigh_data$fld))))\n",
    "}"
   ]
  },
  {
   "cell_type": "code",
   "execution_count": 35,
   "metadata": {
    "collapsed": true
   },
   "outputs": [],
   "source": [
    "get_nn = function(d, point, k){\n",
    "  point = d[point, ]\n",
    "  dists = sort(sqrt(rowSums((t(t(d) - point))^2)))\n",
    "  close_points = names(dists)[2:k]\n",
    "  return(close_points)\n",
    "}"
   ]
  },
  {
   "cell_type": "code",
   "execution_count": 36,
   "metadata": {
    "collapsed": false
   },
   "outputs": [],
   "source": [
    "remove_cols= function(l, cols){\n",
    "    return(l[! l %in% cols])\n",
    "}"
   ]
  },
  {
   "cell_type": "code",
   "execution_count": 37,
   "metadata": {
    "collapsed": false
   },
   "outputs": [],
   "source": [
    "make_factors = function(model_data){\n",
    "model_data$Structure1 = as.factor(model_data$Structure1)\n",
    "model_data$Pipe_Geome = as.factor(model_data$Pipe_Geome)\n",
    "model_data$Pipe_Mater = as.factor(model_data$Pipe_Mater)\n",
    "model_data$Condition = as.factor(model_data$Condition)\n",
    "return(model_data)\n",
    "}"
   ]
  },
  {
   "cell_type": "code",
   "execution_count": 38,
   "metadata": {
    "collapsed": true
   },
   "outputs": [],
   "source": [
    "base_dir<- \"C:/Users/Jeff/Documents/research/Sadler_3rdPaper/manuscript/\"\n",
    "data_dir<- \"C:/Users/Jeff/Google Drive/research/Sadler_3rdPaper_Data/\"\n",
    "fig_dir <- paste(base_dir, \"Figures/general/\", sep=\"\")\n",
    "db_filename <- \"floodData.sqlite\""
   ]
  },
  {
   "cell_type": "code",
   "execution_count": 39,
   "metadata": {
    "collapsed": false
   },
   "outputs": [],
   "source": [
    "con = dbConnect(RSQLite::SQLite(), dbname=paste(data_dir, db_filename, sep=\"\"))"
   ]
  },
  {
   "cell_type": "code",
   "execution_count": 83,
   "metadata": {
    "collapsed": false
   },
   "outputs": [],
   "source": [
    "test_df = dbReadTable(con, 'test_geog_data_hg')\n",
    "train_df = dbReadTable(con, 'train_geog_data_hg')"
   ]
  },
  {
   "cell_type": "code",
   "execution_count": 84,
   "metadata": {
    "collapsed": false
   },
   "outputs": [
    {
     "data": {
      "text/html": [
       "<ol class=list-inline>\n",
       "\t<li>'level_0'</li>\n",
       "\t<li>'AWDR.19'</li>\n",
       "\t<li>'AWND.19'</li>\n",
       "\t<li>'AWND.20'</li>\n",
       "\t<li>'WDF2.19'</li>\n",
       "\t<li>'WDF2.20'</li>\n",
       "\t<li>'WDF2.3'</li>\n",
       "\t<li>'WDF6.18'</li>\n",
       "\t<li>'WGF6.18'</li>\n",
       "\t<li>'WSF2.19'</li>\n",
       "\t<li>'WSF2.20'</li>\n",
       "\t<li>'WSF2.3'</li>\n",
       "\t<li>'WSF6.18'</li>\n",
       "\t<li>'event_name'</li>\n",
       "\t<li>'flooded'</li>\n",
       "\t<li>'gw_av.10'</li>\n",
       "\t<li>'gw_av.11'</li>\n",
       "\t<li>'gw_av.4'</li>\n",
       "\t<li>'gw_av.5'</li>\n",
       "\t<li>'gw_av.6'</li>\n",
       "\t<li>'gw_av.8'</li>\n",
       "\t<li>'gw_av.9'</li>\n",
       "\t<li>'hht.17'</li>\n",
       "\t<li>'hht.18'</li>\n",
       "\t<li>'ht.17'</li>\n",
       "\t<li>'ht.18'</li>\n",
       "\t<li>'llt.17'</li>\n",
       "\t<li>'llt.18'</li>\n",
       "\t<li>'lt.17'</li>\n",
       "\t<li>'lt.18'</li>\n",
       "\t<li>'num_flooded'</li>\n",
       "\t<li>'r15.11_td.17'</li>\n",
       "\t<li>'r15.11_td.18'</li>\n",
       "\t<li>'r15.12_td.17'</li>\n",
       "\t<li>'r15.12_td.18'</li>\n",
       "\t<li>'r15.13_td.17'</li>\n",
       "\t<li>'r15.13_td.18'</li>\n",
       "\t<li>'r15.14_td.17'</li>\n",
       "\t<li>'r15.14_td.18'</li>\n",
       "\t<li>'r15.15_td.17'</li>\n",
       "\t<li>'r15.15_td.18'</li>\n",
       "\t<li>'r15.16_td.17'</li>\n",
       "\t<li>'r15.16_td.18'</li>\n",
       "\t<li>'r15.1_td.17'</li>\n",
       "\t<li>'r15.1_td.18'</li>\n",
       "\t<li>'r15.21_td.17'</li>\n",
       "\t<li>'r15.21_td.18'</li>\n",
       "\t<li>'r15.2_td.17'</li>\n",
       "\t<li>'r15.2_td.18'</li>\n",
       "\t<li>'r15.7_td.17'</li>\n",
       "\t<li>'r15.7_td.18'</li>\n",
       "\t<li>'r15mx.1'</li>\n",
       "\t<li>'r15mx.11'</li>\n",
       "\t<li>'r15mx.12'</li>\n",
       "\t<li>'r15mx.13'</li>\n",
       "\t<li>'r15mx.14'</li>\n",
       "\t<li>'r15mx.15'</li>\n",
       "\t<li>'r15mx.16'</li>\n",
       "\t<li>'r15mx.2'</li>\n",
       "\t<li>'r15mx.21'</li>\n",
       "\t<li>'r15mx.7'</li>\n",
       "\t<li>'r3d.1'</li>\n",
       "\t<li>'r3d.11'</li>\n",
       "\t<li>'r3d.12'</li>\n",
       "\t<li>'r3d.13'</li>\n",
       "\t<li>'r3d.14'</li>\n",
       "\t<li>'r3d.15'</li>\n",
       "\t<li>'r3d.16'</li>\n",
       "\t<li>'r3d.19'</li>\n",
       "\t<li>'r3d.2'</li>\n",
       "\t<li>'r3d.20'</li>\n",
       "\t<li>'r3d.21'</li>\n",
       "\t<li>'r3d.7'</li>\n",
       "\t<li>'rd.1'</li>\n",
       "\t<li>'rd.11'</li>\n",
       "\t<li>'rd.12'</li>\n",
       "\t<li>'rd.13'</li>\n",
       "\t<li>'rd.14'</li>\n",
       "\t<li>'rd.15'</li>\n",
       "\t<li>'rd.16'</li>\n",
       "\t<li>'rd.19'</li>\n",
       "\t<li>'rd.2'</li>\n",
       "\t<li>'rd.20'</li>\n",
       "\t<li>'rd.21'</li>\n",
       "\t<li>'rd.7'</li>\n",
       "\t<li>'rhr.11_td.17'</li>\n",
       "\t<li>'rhr.11_td.18'</li>\n",
       "\t<li>'rhr.12_td.17'</li>\n",
       "\t<li>'rhr.12_td.18'</li>\n",
       "\t<li>'rhr.13_td.17'</li>\n",
       "\t<li>'rhr.13_td.18'</li>\n",
       "\t<li>'rhr.14_td.17'</li>\n",
       "\t<li>'rhr.14_td.18'</li>\n",
       "\t<li>'rhr.15_td.17'</li>\n",
       "\t<li>'rhr.15_td.18'</li>\n",
       "\t<li>'rhr.16_td.17'</li>\n",
       "\t<li>'rhr.16_td.18'</li>\n",
       "\t<li>'rhr.1_td.17'</li>\n",
       "\t<li>'rhr.1_td.18'</li>\n",
       "\t<li>'rhr.21_td.17'</li>\n",
       "\t<li>'rhr.21_td.18'</li>\n",
       "\t<li>'rhr.2_td.17'</li>\n",
       "\t<li>'rhr.2_td.18'</li>\n",
       "\t<li>'rhr.7_td.17'</li>\n",
       "\t<li>'rhr.7_td.18'</li>\n",
       "\t<li>'rhrmx.1'</li>\n",
       "\t<li>'rhrmx.11'</li>\n",
       "\t<li>'rhrmx.12'</li>\n",
       "\t<li>'rhrmx.13'</li>\n",
       "\t<li>'rhrmx.14'</li>\n",
       "\t<li>'rhrmx.15'</li>\n",
       "\t<li>'rhrmx.16'</li>\n",
       "\t<li>'rhrmx.2'</li>\n",
       "\t<li>'rhrmx.21'</li>\n",
       "\t<li>'rhrmx.7'</li>\n",
       "\t<li>'td_av.17'</li>\n",
       "\t<li>'td_av.18'</li>\n",
       "\t<li>'index'</li>\n",
       "\t<li>'location'</li>\n",
       "\t<li>'xcoord'</li>\n",
       "\t<li>'ycoord'</li>\n",
       "\t<li>'count'</li>\n",
       "\t<li>'twi'</li>\n",
       "\t<li>'elev_1'</li>\n",
       "\t<li>'dist_to_ba'</li>\n",
       "\t<li>'imp'</li>\n",
       "\t<li>'dist_to_wa'</li>\n",
       "\t<li>'is_dntn'</li>\n",
       "\t<li>'in_hague'</li>\n",
       "\t<li>'Structure1'</li>\n",
       "\t<li>'Rim_Elevat'</li>\n",
       "\t<li>'Invert_Ele'</li>\n",
       "\t<li>'Year_Insta'</li>\n",
       "\t<li>'Pipe_Geome'</li>\n",
       "\t<li>'Horizontal'</li>\n",
       "\t<li>'Vertical_D'</li>\n",
       "\t<li>'Pipe_Lengt'</li>\n",
       "\t<li>'Pipe_Mater'</li>\n",
       "\t<li>'Year_Ins_1'</li>\n",
       "\t<li>'Condition'</li>\n",
       "\t<li>'flood_pt'</li>\n",
       "</ol>\n"
      ],
      "text/latex": [
       "\\begin{enumerate*}\n",
       "\\item 'level\\_0'\n",
       "\\item 'AWDR.19'\n",
       "\\item 'AWND.19'\n",
       "\\item 'AWND.20'\n",
       "\\item 'WDF2.19'\n",
       "\\item 'WDF2.20'\n",
       "\\item 'WDF2.3'\n",
       "\\item 'WDF6.18'\n",
       "\\item 'WGF6.18'\n",
       "\\item 'WSF2.19'\n",
       "\\item 'WSF2.20'\n",
       "\\item 'WSF2.3'\n",
       "\\item 'WSF6.18'\n",
       "\\item 'event\\_name'\n",
       "\\item 'flooded'\n",
       "\\item 'gw\\_av.10'\n",
       "\\item 'gw\\_av.11'\n",
       "\\item 'gw\\_av.4'\n",
       "\\item 'gw\\_av.5'\n",
       "\\item 'gw\\_av.6'\n",
       "\\item 'gw\\_av.8'\n",
       "\\item 'gw\\_av.9'\n",
       "\\item 'hht.17'\n",
       "\\item 'hht.18'\n",
       "\\item 'ht.17'\n",
       "\\item 'ht.18'\n",
       "\\item 'llt.17'\n",
       "\\item 'llt.18'\n",
       "\\item 'lt.17'\n",
       "\\item 'lt.18'\n",
       "\\item 'num\\_flooded'\n",
       "\\item 'r15.11\\_td.17'\n",
       "\\item 'r15.11\\_td.18'\n",
       "\\item 'r15.12\\_td.17'\n",
       "\\item 'r15.12\\_td.18'\n",
       "\\item 'r15.13\\_td.17'\n",
       "\\item 'r15.13\\_td.18'\n",
       "\\item 'r15.14\\_td.17'\n",
       "\\item 'r15.14\\_td.18'\n",
       "\\item 'r15.15\\_td.17'\n",
       "\\item 'r15.15\\_td.18'\n",
       "\\item 'r15.16\\_td.17'\n",
       "\\item 'r15.16\\_td.18'\n",
       "\\item 'r15.1\\_td.17'\n",
       "\\item 'r15.1\\_td.18'\n",
       "\\item 'r15.21\\_td.17'\n",
       "\\item 'r15.21\\_td.18'\n",
       "\\item 'r15.2\\_td.17'\n",
       "\\item 'r15.2\\_td.18'\n",
       "\\item 'r15.7\\_td.17'\n",
       "\\item 'r15.7\\_td.18'\n",
       "\\item 'r15mx.1'\n",
       "\\item 'r15mx.11'\n",
       "\\item 'r15mx.12'\n",
       "\\item 'r15mx.13'\n",
       "\\item 'r15mx.14'\n",
       "\\item 'r15mx.15'\n",
       "\\item 'r15mx.16'\n",
       "\\item 'r15mx.2'\n",
       "\\item 'r15mx.21'\n",
       "\\item 'r15mx.7'\n",
       "\\item 'r3d.1'\n",
       "\\item 'r3d.11'\n",
       "\\item 'r3d.12'\n",
       "\\item 'r3d.13'\n",
       "\\item 'r3d.14'\n",
       "\\item 'r3d.15'\n",
       "\\item 'r3d.16'\n",
       "\\item 'r3d.19'\n",
       "\\item 'r3d.2'\n",
       "\\item 'r3d.20'\n",
       "\\item 'r3d.21'\n",
       "\\item 'r3d.7'\n",
       "\\item 'rd.1'\n",
       "\\item 'rd.11'\n",
       "\\item 'rd.12'\n",
       "\\item 'rd.13'\n",
       "\\item 'rd.14'\n",
       "\\item 'rd.15'\n",
       "\\item 'rd.16'\n",
       "\\item 'rd.19'\n",
       "\\item 'rd.2'\n",
       "\\item 'rd.20'\n",
       "\\item 'rd.21'\n",
       "\\item 'rd.7'\n",
       "\\item 'rhr.11\\_td.17'\n",
       "\\item 'rhr.11\\_td.18'\n",
       "\\item 'rhr.12\\_td.17'\n",
       "\\item 'rhr.12\\_td.18'\n",
       "\\item 'rhr.13\\_td.17'\n",
       "\\item 'rhr.13\\_td.18'\n",
       "\\item 'rhr.14\\_td.17'\n",
       "\\item 'rhr.14\\_td.18'\n",
       "\\item 'rhr.15\\_td.17'\n",
       "\\item 'rhr.15\\_td.18'\n",
       "\\item 'rhr.16\\_td.17'\n",
       "\\item 'rhr.16\\_td.18'\n",
       "\\item 'rhr.1\\_td.17'\n",
       "\\item 'rhr.1\\_td.18'\n",
       "\\item 'rhr.21\\_td.17'\n",
       "\\item 'rhr.21\\_td.18'\n",
       "\\item 'rhr.2\\_td.17'\n",
       "\\item 'rhr.2\\_td.18'\n",
       "\\item 'rhr.7\\_td.17'\n",
       "\\item 'rhr.7\\_td.18'\n",
       "\\item 'rhrmx.1'\n",
       "\\item 'rhrmx.11'\n",
       "\\item 'rhrmx.12'\n",
       "\\item 'rhrmx.13'\n",
       "\\item 'rhrmx.14'\n",
       "\\item 'rhrmx.15'\n",
       "\\item 'rhrmx.16'\n",
       "\\item 'rhrmx.2'\n",
       "\\item 'rhrmx.21'\n",
       "\\item 'rhrmx.7'\n",
       "\\item 'td\\_av.17'\n",
       "\\item 'td\\_av.18'\n",
       "\\item 'index'\n",
       "\\item 'location'\n",
       "\\item 'xcoord'\n",
       "\\item 'ycoord'\n",
       "\\item 'count'\n",
       "\\item 'twi'\n",
       "\\item 'elev\\_1'\n",
       "\\item 'dist\\_to\\_ba'\n",
       "\\item 'imp'\n",
       "\\item 'dist\\_to\\_wa'\n",
       "\\item 'is\\_dntn'\n",
       "\\item 'in\\_hague'\n",
       "\\item 'Structure1'\n",
       "\\item 'Rim\\_Elevat'\n",
       "\\item 'Invert\\_Ele'\n",
       "\\item 'Year\\_Insta'\n",
       "\\item 'Pipe\\_Geome'\n",
       "\\item 'Horizontal'\n",
       "\\item 'Vertical\\_D'\n",
       "\\item 'Pipe\\_Lengt'\n",
       "\\item 'Pipe\\_Mater'\n",
       "\\item 'Year\\_Ins\\_1'\n",
       "\\item 'Condition'\n",
       "\\item 'flood\\_pt'\n",
       "\\end{enumerate*}\n"
      ],
      "text/markdown": [
       "1. 'level_0'\n",
       "2. 'AWDR.19'\n",
       "3. 'AWND.19'\n",
       "4. 'AWND.20'\n",
       "5. 'WDF2.19'\n",
       "6. 'WDF2.20'\n",
       "7. 'WDF2.3'\n",
       "8. 'WDF6.18'\n",
       "9. 'WGF6.18'\n",
       "10. 'WSF2.19'\n",
       "11. 'WSF2.20'\n",
       "12. 'WSF2.3'\n",
       "13. 'WSF6.18'\n",
       "14. 'event_name'\n",
       "15. 'flooded'\n",
       "16. 'gw_av.10'\n",
       "17. 'gw_av.11'\n",
       "18. 'gw_av.4'\n",
       "19. 'gw_av.5'\n",
       "20. 'gw_av.6'\n",
       "21. 'gw_av.8'\n",
       "22. 'gw_av.9'\n",
       "23. 'hht.17'\n",
       "24. 'hht.18'\n",
       "25. 'ht.17'\n",
       "26. 'ht.18'\n",
       "27. 'llt.17'\n",
       "28. 'llt.18'\n",
       "29. 'lt.17'\n",
       "30. 'lt.18'\n",
       "31. 'num_flooded'\n",
       "32. 'r15.11_td.17'\n",
       "33. 'r15.11_td.18'\n",
       "34. 'r15.12_td.17'\n",
       "35. 'r15.12_td.18'\n",
       "36. 'r15.13_td.17'\n",
       "37. 'r15.13_td.18'\n",
       "38. 'r15.14_td.17'\n",
       "39. 'r15.14_td.18'\n",
       "40. 'r15.15_td.17'\n",
       "41. 'r15.15_td.18'\n",
       "42. 'r15.16_td.17'\n",
       "43. 'r15.16_td.18'\n",
       "44. 'r15.1_td.17'\n",
       "45. 'r15.1_td.18'\n",
       "46. 'r15.21_td.17'\n",
       "47. 'r15.21_td.18'\n",
       "48. 'r15.2_td.17'\n",
       "49. 'r15.2_td.18'\n",
       "50. 'r15.7_td.17'\n",
       "51. 'r15.7_td.18'\n",
       "52. 'r15mx.1'\n",
       "53. 'r15mx.11'\n",
       "54. 'r15mx.12'\n",
       "55. 'r15mx.13'\n",
       "56. 'r15mx.14'\n",
       "57. 'r15mx.15'\n",
       "58. 'r15mx.16'\n",
       "59. 'r15mx.2'\n",
       "60. 'r15mx.21'\n",
       "61. 'r15mx.7'\n",
       "62. 'r3d.1'\n",
       "63. 'r3d.11'\n",
       "64. 'r3d.12'\n",
       "65. 'r3d.13'\n",
       "66. 'r3d.14'\n",
       "67. 'r3d.15'\n",
       "68. 'r3d.16'\n",
       "69. 'r3d.19'\n",
       "70. 'r3d.2'\n",
       "71. 'r3d.20'\n",
       "72. 'r3d.21'\n",
       "73. 'r3d.7'\n",
       "74. 'rd.1'\n",
       "75. 'rd.11'\n",
       "76. 'rd.12'\n",
       "77. 'rd.13'\n",
       "78. 'rd.14'\n",
       "79. 'rd.15'\n",
       "80. 'rd.16'\n",
       "81. 'rd.19'\n",
       "82. 'rd.2'\n",
       "83. 'rd.20'\n",
       "84. 'rd.21'\n",
       "85. 'rd.7'\n",
       "86. 'rhr.11_td.17'\n",
       "87. 'rhr.11_td.18'\n",
       "88. 'rhr.12_td.17'\n",
       "89. 'rhr.12_td.18'\n",
       "90. 'rhr.13_td.17'\n",
       "91. 'rhr.13_td.18'\n",
       "92. 'rhr.14_td.17'\n",
       "93. 'rhr.14_td.18'\n",
       "94. 'rhr.15_td.17'\n",
       "95. 'rhr.15_td.18'\n",
       "96. 'rhr.16_td.17'\n",
       "97. 'rhr.16_td.18'\n",
       "98. 'rhr.1_td.17'\n",
       "99. 'rhr.1_td.18'\n",
       "100. 'rhr.21_td.17'\n",
       "101. 'rhr.21_td.18'\n",
       "102. 'rhr.2_td.17'\n",
       "103. 'rhr.2_td.18'\n",
       "104. 'rhr.7_td.17'\n",
       "105. 'rhr.7_td.18'\n",
       "106. 'rhrmx.1'\n",
       "107. 'rhrmx.11'\n",
       "108. 'rhrmx.12'\n",
       "109. 'rhrmx.13'\n",
       "110. 'rhrmx.14'\n",
       "111. 'rhrmx.15'\n",
       "112. 'rhrmx.16'\n",
       "113. 'rhrmx.2'\n",
       "114. 'rhrmx.21'\n",
       "115. 'rhrmx.7'\n",
       "116. 'td_av.17'\n",
       "117. 'td_av.18'\n",
       "118. 'index'\n",
       "119. 'location'\n",
       "120. 'xcoord'\n",
       "121. 'ycoord'\n",
       "122. 'count'\n",
       "123. 'twi'\n",
       "124. 'elev_1'\n",
       "125. 'dist_to_ba'\n",
       "126. 'imp'\n",
       "127. 'dist_to_wa'\n",
       "128. 'is_dntn'\n",
       "129. 'in_hague'\n",
       "130. 'Structure1'\n",
       "131. 'Rim_Elevat'\n",
       "132. 'Invert_Ele'\n",
       "133. 'Year_Insta'\n",
       "134. 'Pipe_Geome'\n",
       "135. 'Horizontal'\n",
       "136. 'Vertical_D'\n",
       "137. 'Pipe_Lengt'\n",
       "138. 'Pipe_Mater'\n",
       "139. 'Year_Ins_1'\n",
       "140. 'Condition'\n",
       "141. 'flood_pt'\n",
       "\n",
       "\n"
      ],
      "text/plain": [
       "  [1] \"level_0\"      \"AWDR.19\"      \"AWND.19\"      \"AWND.20\"      \"WDF2.19\"     \n",
       "  [6] \"WDF2.20\"      \"WDF2.3\"       \"WDF6.18\"      \"WGF6.18\"      \"WSF2.19\"     \n",
       " [11] \"WSF2.20\"      \"WSF2.3\"       \"WSF6.18\"      \"event_name\"   \"flooded\"     \n",
       " [16] \"gw_av.10\"     \"gw_av.11\"     \"gw_av.4\"      \"gw_av.5\"      \"gw_av.6\"     \n",
       " [21] \"gw_av.8\"      \"gw_av.9\"      \"hht.17\"       \"hht.18\"       \"ht.17\"       \n",
       " [26] \"ht.18\"        \"llt.17\"       \"llt.18\"       \"lt.17\"        \"lt.18\"       \n",
       " [31] \"num_flooded\"  \"r15.11_td.17\" \"r15.11_td.18\" \"r15.12_td.17\" \"r15.12_td.18\"\n",
       " [36] \"r15.13_td.17\" \"r15.13_td.18\" \"r15.14_td.17\" \"r15.14_td.18\" \"r15.15_td.17\"\n",
       " [41] \"r15.15_td.18\" \"r15.16_td.17\" \"r15.16_td.18\" \"r15.1_td.17\"  \"r15.1_td.18\" \n",
       " [46] \"r15.21_td.17\" \"r15.21_td.18\" \"r15.2_td.17\"  \"r15.2_td.18\"  \"r15.7_td.17\" \n",
       " [51] \"r15.7_td.18\"  \"r15mx.1\"      \"r15mx.11\"     \"r15mx.12\"     \"r15mx.13\"    \n",
       " [56] \"r15mx.14\"     \"r15mx.15\"     \"r15mx.16\"     \"r15mx.2\"      \"r15mx.21\"    \n",
       " [61] \"r15mx.7\"      \"r3d.1\"        \"r3d.11\"       \"r3d.12\"       \"r3d.13\"      \n",
       " [66] \"r3d.14\"       \"r3d.15\"       \"r3d.16\"       \"r3d.19\"       \"r3d.2\"       \n",
       " [71] \"r3d.20\"       \"r3d.21\"       \"r3d.7\"        \"rd.1\"         \"rd.11\"       \n",
       " [76] \"rd.12\"        \"rd.13\"        \"rd.14\"        \"rd.15\"        \"rd.16\"       \n",
       " [81] \"rd.19\"        \"rd.2\"         \"rd.20\"        \"rd.21\"        \"rd.7\"        \n",
       " [86] \"rhr.11_td.17\" \"rhr.11_td.18\" \"rhr.12_td.17\" \"rhr.12_td.18\" \"rhr.13_td.17\"\n",
       " [91] \"rhr.13_td.18\" \"rhr.14_td.17\" \"rhr.14_td.18\" \"rhr.15_td.17\" \"rhr.15_td.18\"\n",
       " [96] \"rhr.16_td.17\" \"rhr.16_td.18\" \"rhr.1_td.17\"  \"rhr.1_td.18\"  \"rhr.21_td.17\"\n",
       "[101] \"rhr.21_td.18\" \"rhr.2_td.17\"  \"rhr.2_td.18\"  \"rhr.7_td.17\"  \"rhr.7_td.18\" \n",
       "[106] \"rhrmx.1\"      \"rhrmx.11\"     \"rhrmx.12\"     \"rhrmx.13\"     \"rhrmx.14\"    \n",
       "[111] \"rhrmx.15\"     \"rhrmx.16\"     \"rhrmx.2\"      \"rhrmx.21\"     \"rhrmx.7\"     \n",
       "[116] \"td_av.17\"     \"td_av.18\"     \"index\"        \"location\"     \"xcoord\"      \n",
       "[121] \"ycoord\"       \"count\"        \"twi\"          \"elev_1\"       \"dist_to_ba\"  \n",
       "[126] \"imp\"          \"dist_to_wa\"   \"is_dntn\"      \"in_hague\"     \"Structure1\"  \n",
       "[131] \"Rim_Elevat\"   \"Invert_Ele\"   \"Year_Insta\"   \"Pipe_Geome\"   \"Horizontal\"  \n",
       "[136] \"Vertical_D\"   \"Pipe_Lengt\"   \"Pipe_Mater\"   \"Year_Ins_1\"   \"Condition\"   \n",
       "[141] \"flood_pt\"    "
      ]
     },
     "metadata": {},
     "output_type": "display_data"
    }
   ],
   "source": [
    "colnames(test_df)\n"
   ]
  },
  {
   "cell_type": "code",
   "execution_count": 85,
   "metadata": {
    "collapsed": true
   },
   "outputs": [],
   "source": [
    "cols_to_remove = c('level_0', 'index', 'is_dntn', 'flood_pt', 'event_name', 'num_flooded', 'location', 'count', 'flooded')\n",
    "in_col_names = remove_cols(colnames(test_df), cols_to_remove)\n",
    "out_col_name = 'flooded'"
   ]
  },
  {
   "cell_type": "code",
   "execution_count": 86,
   "metadata": {
    "collapsed": false
   },
   "outputs": [],
   "source": [
    "test_df = make_factors(test_df)\n",
    "train_df = make_factors(train_df)"
   ]
  },
  {
   "cell_type": "code",
   "execution_count": 87,
   "metadata": {
    "collapsed": true
   },
   "outputs": [],
   "source": [
    "train_data = train_df[, append(in_col_names, out_col_name)]\n",
    "test_data = test_df[, append(in_col_names, out_col_name)]"
   ]
  },
  {
   "cell_type": "code",
   "execution_count": 88,
   "metadata": {
    "collapsed": false
   },
   "outputs": [],
   "source": [
    "train_in_data = train_df[, in_col_names]\n",
    "test_in_data = test_df[, in_col_names]"
   ]
  },
  {
   "cell_type": "code",
   "execution_count": 89,
   "metadata": {
    "collapsed": false
   },
   "outputs": [],
   "source": [
    "tst_out = test_df[, out_col_name]\n",
    "trn_out = train_df[, out_col_name]"
   ]
  },
  {
   "cell_type": "markdown",
   "metadata": {},
   "source": [
    "### Scale data"
   ]
  },
  {
   "cell_type": "code",
   "execution_count": 18,
   "metadata": {
    "collapsed": false
   },
   "outputs": [
    {
     "name": "stderr",
     "output_type": "stream",
     "text": [
      "Warning message in var(if (is.vector(x) || is.factor(x)) x else as.double(x), na.rm = na.rm):\n",
      "\"NAs introduced by coercion\"Warning message in var(if (is.vector(x) || is.factor(x)) x else as.double(x), na.rm = na.rm):\n",
      "\"NAs introduced by coercion\""
     ]
    },
    {
     "ename": "ERROR",
     "evalue": "Error in colMeans(train_in_data): 'x' must be numeric\n",
     "output_type": "error",
     "traceback": [
      "Error in colMeans(train_in_data): 'x' must be numeric\nTraceback:\n",
      "1. colMeans(train_in_data)"
     ]
    }
   ],
   "source": [
    "train_col_stds = apply(train_in_data, 2, sd)\n",
    "train_col_means = colMeans(train_in_data)"
   ]
  },
  {
   "cell_type": "code",
   "execution_count": null,
   "metadata": {
    "collapsed": false
   },
   "outputs": [],
   "source": [
    "train_normalized = t((t(train_in_data)-train_col_means)/train_col_stds)\n",
    "test_normalized = t((t(test_in_data)-train_col_means)/train_col_stds)"
   ]
  },
  {
   "cell_type": "markdown",
   "metadata": {},
   "source": [
    "### PCA transform"
   ]
  },
  {
   "cell_type": "code",
   "execution_count": null,
   "metadata": {
    "collapsed": false
   },
   "outputs": [],
   "source": [
    "pca = prcomp(train_normalized)\n",
    "pca$x = -pca$x\n",
    "pca$rotation=-pca$rotation\n",
    "p = ggplot(pca$x[,c(1,2)], aes(x=PC1, y=PC2, colour=model_data[train_ind, out_col_name], label=rownames(pca$x)))\n",
    "p + geom_point() + geom_text()\n",
    "print(pca)\n",
    "plot(pca)"
   ]
  },
  {
   "cell_type": "code",
   "execution_count": null,
   "metadata": {
    "collapsed": false
   },
   "outputs": [],
   "source": [
    "trn_preprocessed = predict(pca, train_normalized)\n",
    "tst_preprocessed = predict(pca, test_normalized)\n",
    "trn_in = trn_preprocessed\n",
    "tst_in = tst_preprocessed"
   ]
  },
  {
   "cell_type": "code",
   "execution_count": null,
   "metadata": {
    "collapsed": false
   },
   "outputs": [],
   "source": [
    "train_data = cbind(as.data.frame(trn_in), flooded = model_data[train_ind, out_col_name])\n",
    "fmla = as.formula(paste(out_col_name, \"~\", paste(colnames(trn_in), collapse=\"+\")))\n",
    "fmla"
   ]
  },
  {
   "cell_type": "markdown",
   "metadata": {},
   "source": [
    "### KNN"
   ]
  },
  {
   "cell_type": "code",
   "execution_count": null,
   "metadata": {
    "collapsed": false
   },
   "outputs": [],
   "source": [
    "kfit = knn(trn_in, tst_in, trn_out, k=5)\n",
    "table(tst_out, kfit)"
   ]
  },
  {
   "cell_type": "markdown",
   "metadata": {},
   "source": [
    "### SVM"
   ]
  },
  {
   "cell_type": "code",
   "execution_count": null,
   "metadata": {
    "collapsed": false
   },
   "outputs": [],
   "source": [
    "svm_fit = svm(fmla, data=train_data)\n",
    "svm_pred = predict(svm_fit, tst_in)\n",
    "table(tst_out, svm_pred)"
   ]
  },
  {
   "cell_type": "markdown",
   "metadata": {},
   "source": [
    "### Decision Trees"
   ]
  },
  {
   "cell_type": "code",
   "execution_count": 90,
   "metadata": {
    "collapsed": false
   },
   "outputs": [],
   "source": [
    "dt_fmla = as.formula(paste(out_col_name, \"~\", paste(in_col_names, collapse=\"+\")))"
   ]
  },
  {
   "cell_type": "code",
   "execution_count": 91,
   "metadata": {
    "collapsed": false
   },
   "outputs": [
    {
     "data": {
      "text/html": [
       "<ol class=list-inline>\n",
       "\t<li>'AWDR.19'</li>\n",
       "\t<li>'AWND.19'</li>\n",
       "\t<li>'AWND.20'</li>\n",
       "\t<li>'WDF2.19'</li>\n",
       "\t<li>'WDF2.20'</li>\n",
       "\t<li>'WDF2.3'</li>\n",
       "\t<li>'WDF6.18'</li>\n",
       "\t<li>'WGF6.18'</li>\n",
       "\t<li>'WSF2.19'</li>\n",
       "\t<li>'WSF2.20'</li>\n",
       "\t<li>'WSF2.3'</li>\n",
       "\t<li>'WSF6.18'</li>\n",
       "\t<li>'gw_av.10'</li>\n",
       "\t<li>'gw_av.11'</li>\n",
       "\t<li>'gw_av.4'</li>\n",
       "\t<li>'gw_av.5'</li>\n",
       "\t<li>'gw_av.6'</li>\n",
       "\t<li>'gw_av.8'</li>\n",
       "\t<li>'gw_av.9'</li>\n",
       "\t<li>'hht.17'</li>\n",
       "\t<li>'hht.18'</li>\n",
       "\t<li>'ht.17'</li>\n",
       "\t<li>'ht.18'</li>\n",
       "\t<li>'llt.17'</li>\n",
       "\t<li>'llt.18'</li>\n",
       "\t<li>'lt.17'</li>\n",
       "\t<li>'lt.18'</li>\n",
       "\t<li>'r15.11_td.17'</li>\n",
       "\t<li>'r15.11_td.18'</li>\n",
       "\t<li>'r15.12_td.17'</li>\n",
       "\t<li>'r15.12_td.18'</li>\n",
       "\t<li>'r15.13_td.17'</li>\n",
       "\t<li>'r15.13_td.18'</li>\n",
       "\t<li>'r15.14_td.17'</li>\n",
       "\t<li>'r15.14_td.18'</li>\n",
       "\t<li>'r15.15_td.17'</li>\n",
       "\t<li>'r15.15_td.18'</li>\n",
       "\t<li>'r15.16_td.17'</li>\n",
       "\t<li>'r15.16_td.18'</li>\n",
       "\t<li>'r15.1_td.17'</li>\n",
       "\t<li>'r15.1_td.18'</li>\n",
       "\t<li>'r15.21_td.17'</li>\n",
       "\t<li>'r15.21_td.18'</li>\n",
       "\t<li>'r15.2_td.17'</li>\n",
       "\t<li>'r15.2_td.18'</li>\n",
       "\t<li>'r15.7_td.17'</li>\n",
       "\t<li>'r15.7_td.18'</li>\n",
       "\t<li>'r15mx.1'</li>\n",
       "\t<li>'r15mx.11'</li>\n",
       "\t<li>'r15mx.12'</li>\n",
       "\t<li>'r15mx.13'</li>\n",
       "\t<li>'r15mx.14'</li>\n",
       "\t<li>'r15mx.15'</li>\n",
       "\t<li>'r15mx.16'</li>\n",
       "\t<li>'r15mx.2'</li>\n",
       "\t<li>'r15mx.21'</li>\n",
       "\t<li>'r15mx.7'</li>\n",
       "\t<li>'r3d.1'</li>\n",
       "\t<li>'r3d.11'</li>\n",
       "\t<li>'r3d.12'</li>\n",
       "\t<li>'r3d.13'</li>\n",
       "\t<li>'r3d.14'</li>\n",
       "\t<li>'r3d.15'</li>\n",
       "\t<li>'r3d.16'</li>\n",
       "\t<li>'r3d.19'</li>\n",
       "\t<li>'r3d.2'</li>\n",
       "\t<li>'r3d.20'</li>\n",
       "\t<li>'r3d.21'</li>\n",
       "\t<li>'r3d.7'</li>\n",
       "\t<li>'rd.1'</li>\n",
       "\t<li>'rd.11'</li>\n",
       "\t<li>'rd.12'</li>\n",
       "\t<li>'rd.13'</li>\n",
       "\t<li>'rd.14'</li>\n",
       "\t<li>'rd.15'</li>\n",
       "\t<li>'rd.16'</li>\n",
       "\t<li>'rd.19'</li>\n",
       "\t<li>'rd.2'</li>\n",
       "\t<li>'rd.20'</li>\n",
       "\t<li>'rd.21'</li>\n",
       "\t<li>'rd.7'</li>\n",
       "\t<li>'rhr.11_td.17'</li>\n",
       "\t<li>'rhr.11_td.18'</li>\n",
       "\t<li>'rhr.12_td.17'</li>\n",
       "\t<li>'rhr.12_td.18'</li>\n",
       "\t<li>'rhr.13_td.17'</li>\n",
       "\t<li>'rhr.13_td.18'</li>\n",
       "\t<li>'rhr.14_td.17'</li>\n",
       "\t<li>'rhr.14_td.18'</li>\n",
       "\t<li>'rhr.15_td.17'</li>\n",
       "\t<li>'rhr.15_td.18'</li>\n",
       "\t<li>'rhr.16_td.17'</li>\n",
       "\t<li>'rhr.16_td.18'</li>\n",
       "\t<li>'rhr.1_td.17'</li>\n",
       "\t<li>'rhr.1_td.18'</li>\n",
       "\t<li>'rhr.21_td.17'</li>\n",
       "\t<li>'rhr.21_td.18'</li>\n",
       "\t<li>'rhr.2_td.17'</li>\n",
       "\t<li>'rhr.2_td.18'</li>\n",
       "\t<li>'rhr.7_td.17'</li>\n",
       "\t<li>'rhr.7_td.18'</li>\n",
       "\t<li>'rhrmx.1'</li>\n",
       "\t<li>'rhrmx.11'</li>\n",
       "\t<li>'rhrmx.12'</li>\n",
       "\t<li>'rhrmx.13'</li>\n",
       "\t<li>'rhrmx.14'</li>\n",
       "\t<li>'rhrmx.15'</li>\n",
       "\t<li>'rhrmx.16'</li>\n",
       "\t<li>'rhrmx.2'</li>\n",
       "\t<li>'rhrmx.21'</li>\n",
       "\t<li>'rhrmx.7'</li>\n",
       "\t<li>'td_av.17'</li>\n",
       "\t<li>'td_av.18'</li>\n",
       "\t<li>'xcoord'</li>\n",
       "\t<li>'ycoord'</li>\n",
       "\t<li>'twi'</li>\n",
       "\t<li>'elev_1'</li>\n",
       "\t<li>'dist_to_ba'</li>\n",
       "\t<li>'imp'</li>\n",
       "\t<li>'dist_to_wa'</li>\n",
       "\t<li>'in_hague'</li>\n",
       "\t<li>'Structure1'</li>\n",
       "\t<li>'Rim_Elevat'</li>\n",
       "\t<li>'Invert_Ele'</li>\n",
       "\t<li>'Year_Insta'</li>\n",
       "\t<li>'Pipe_Geome'</li>\n",
       "\t<li>'Horizontal'</li>\n",
       "\t<li>'Vertical_D'</li>\n",
       "\t<li>'Pipe_Lengt'</li>\n",
       "\t<li>'Pipe_Mater'</li>\n",
       "\t<li>'Year_Ins_1'</li>\n",
       "\t<li>'Condition'</li>\n",
       "\t<li>'flooded'</li>\n",
       "</ol>\n"
      ],
      "text/latex": [
       "\\begin{enumerate*}\n",
       "\\item 'AWDR.19'\n",
       "\\item 'AWND.19'\n",
       "\\item 'AWND.20'\n",
       "\\item 'WDF2.19'\n",
       "\\item 'WDF2.20'\n",
       "\\item 'WDF2.3'\n",
       "\\item 'WDF6.18'\n",
       "\\item 'WGF6.18'\n",
       "\\item 'WSF2.19'\n",
       "\\item 'WSF2.20'\n",
       "\\item 'WSF2.3'\n",
       "\\item 'WSF6.18'\n",
       "\\item 'gw\\_av.10'\n",
       "\\item 'gw\\_av.11'\n",
       "\\item 'gw\\_av.4'\n",
       "\\item 'gw\\_av.5'\n",
       "\\item 'gw\\_av.6'\n",
       "\\item 'gw\\_av.8'\n",
       "\\item 'gw\\_av.9'\n",
       "\\item 'hht.17'\n",
       "\\item 'hht.18'\n",
       "\\item 'ht.17'\n",
       "\\item 'ht.18'\n",
       "\\item 'llt.17'\n",
       "\\item 'llt.18'\n",
       "\\item 'lt.17'\n",
       "\\item 'lt.18'\n",
       "\\item 'r15.11\\_td.17'\n",
       "\\item 'r15.11\\_td.18'\n",
       "\\item 'r15.12\\_td.17'\n",
       "\\item 'r15.12\\_td.18'\n",
       "\\item 'r15.13\\_td.17'\n",
       "\\item 'r15.13\\_td.18'\n",
       "\\item 'r15.14\\_td.17'\n",
       "\\item 'r15.14\\_td.18'\n",
       "\\item 'r15.15\\_td.17'\n",
       "\\item 'r15.15\\_td.18'\n",
       "\\item 'r15.16\\_td.17'\n",
       "\\item 'r15.16\\_td.18'\n",
       "\\item 'r15.1\\_td.17'\n",
       "\\item 'r15.1\\_td.18'\n",
       "\\item 'r15.21\\_td.17'\n",
       "\\item 'r15.21\\_td.18'\n",
       "\\item 'r15.2\\_td.17'\n",
       "\\item 'r15.2\\_td.18'\n",
       "\\item 'r15.7\\_td.17'\n",
       "\\item 'r15.7\\_td.18'\n",
       "\\item 'r15mx.1'\n",
       "\\item 'r15mx.11'\n",
       "\\item 'r15mx.12'\n",
       "\\item 'r15mx.13'\n",
       "\\item 'r15mx.14'\n",
       "\\item 'r15mx.15'\n",
       "\\item 'r15mx.16'\n",
       "\\item 'r15mx.2'\n",
       "\\item 'r15mx.21'\n",
       "\\item 'r15mx.7'\n",
       "\\item 'r3d.1'\n",
       "\\item 'r3d.11'\n",
       "\\item 'r3d.12'\n",
       "\\item 'r3d.13'\n",
       "\\item 'r3d.14'\n",
       "\\item 'r3d.15'\n",
       "\\item 'r3d.16'\n",
       "\\item 'r3d.19'\n",
       "\\item 'r3d.2'\n",
       "\\item 'r3d.20'\n",
       "\\item 'r3d.21'\n",
       "\\item 'r3d.7'\n",
       "\\item 'rd.1'\n",
       "\\item 'rd.11'\n",
       "\\item 'rd.12'\n",
       "\\item 'rd.13'\n",
       "\\item 'rd.14'\n",
       "\\item 'rd.15'\n",
       "\\item 'rd.16'\n",
       "\\item 'rd.19'\n",
       "\\item 'rd.2'\n",
       "\\item 'rd.20'\n",
       "\\item 'rd.21'\n",
       "\\item 'rd.7'\n",
       "\\item 'rhr.11\\_td.17'\n",
       "\\item 'rhr.11\\_td.18'\n",
       "\\item 'rhr.12\\_td.17'\n",
       "\\item 'rhr.12\\_td.18'\n",
       "\\item 'rhr.13\\_td.17'\n",
       "\\item 'rhr.13\\_td.18'\n",
       "\\item 'rhr.14\\_td.17'\n",
       "\\item 'rhr.14\\_td.18'\n",
       "\\item 'rhr.15\\_td.17'\n",
       "\\item 'rhr.15\\_td.18'\n",
       "\\item 'rhr.16\\_td.17'\n",
       "\\item 'rhr.16\\_td.18'\n",
       "\\item 'rhr.1\\_td.17'\n",
       "\\item 'rhr.1\\_td.18'\n",
       "\\item 'rhr.21\\_td.17'\n",
       "\\item 'rhr.21\\_td.18'\n",
       "\\item 'rhr.2\\_td.17'\n",
       "\\item 'rhr.2\\_td.18'\n",
       "\\item 'rhr.7\\_td.17'\n",
       "\\item 'rhr.7\\_td.18'\n",
       "\\item 'rhrmx.1'\n",
       "\\item 'rhrmx.11'\n",
       "\\item 'rhrmx.12'\n",
       "\\item 'rhrmx.13'\n",
       "\\item 'rhrmx.14'\n",
       "\\item 'rhrmx.15'\n",
       "\\item 'rhrmx.16'\n",
       "\\item 'rhrmx.2'\n",
       "\\item 'rhrmx.21'\n",
       "\\item 'rhrmx.7'\n",
       "\\item 'td\\_av.17'\n",
       "\\item 'td\\_av.18'\n",
       "\\item 'xcoord'\n",
       "\\item 'ycoord'\n",
       "\\item 'twi'\n",
       "\\item 'elev\\_1'\n",
       "\\item 'dist\\_to\\_ba'\n",
       "\\item 'imp'\n",
       "\\item 'dist\\_to\\_wa'\n",
       "\\item 'in\\_hague'\n",
       "\\item 'Structure1'\n",
       "\\item 'Rim\\_Elevat'\n",
       "\\item 'Invert\\_Ele'\n",
       "\\item 'Year\\_Insta'\n",
       "\\item 'Pipe\\_Geome'\n",
       "\\item 'Horizontal'\n",
       "\\item 'Vertical\\_D'\n",
       "\\item 'Pipe\\_Lengt'\n",
       "\\item 'Pipe\\_Mater'\n",
       "\\item 'Year\\_Ins\\_1'\n",
       "\\item 'Condition'\n",
       "\\item 'flooded'\n",
       "\\end{enumerate*}\n"
      ],
      "text/markdown": [
       "1. 'AWDR.19'\n",
       "2. 'AWND.19'\n",
       "3. 'AWND.20'\n",
       "4. 'WDF2.19'\n",
       "5. 'WDF2.20'\n",
       "6. 'WDF2.3'\n",
       "7. 'WDF6.18'\n",
       "8. 'WGF6.18'\n",
       "9. 'WSF2.19'\n",
       "10. 'WSF2.20'\n",
       "11. 'WSF2.3'\n",
       "12. 'WSF6.18'\n",
       "13. 'gw_av.10'\n",
       "14. 'gw_av.11'\n",
       "15. 'gw_av.4'\n",
       "16. 'gw_av.5'\n",
       "17. 'gw_av.6'\n",
       "18. 'gw_av.8'\n",
       "19. 'gw_av.9'\n",
       "20. 'hht.17'\n",
       "21. 'hht.18'\n",
       "22. 'ht.17'\n",
       "23. 'ht.18'\n",
       "24. 'llt.17'\n",
       "25. 'llt.18'\n",
       "26. 'lt.17'\n",
       "27. 'lt.18'\n",
       "28. 'r15.11_td.17'\n",
       "29. 'r15.11_td.18'\n",
       "30. 'r15.12_td.17'\n",
       "31. 'r15.12_td.18'\n",
       "32. 'r15.13_td.17'\n",
       "33. 'r15.13_td.18'\n",
       "34. 'r15.14_td.17'\n",
       "35. 'r15.14_td.18'\n",
       "36. 'r15.15_td.17'\n",
       "37. 'r15.15_td.18'\n",
       "38. 'r15.16_td.17'\n",
       "39. 'r15.16_td.18'\n",
       "40. 'r15.1_td.17'\n",
       "41. 'r15.1_td.18'\n",
       "42. 'r15.21_td.17'\n",
       "43. 'r15.21_td.18'\n",
       "44. 'r15.2_td.17'\n",
       "45. 'r15.2_td.18'\n",
       "46. 'r15.7_td.17'\n",
       "47. 'r15.7_td.18'\n",
       "48. 'r15mx.1'\n",
       "49. 'r15mx.11'\n",
       "50. 'r15mx.12'\n",
       "51. 'r15mx.13'\n",
       "52. 'r15mx.14'\n",
       "53. 'r15mx.15'\n",
       "54. 'r15mx.16'\n",
       "55. 'r15mx.2'\n",
       "56. 'r15mx.21'\n",
       "57. 'r15mx.7'\n",
       "58. 'r3d.1'\n",
       "59. 'r3d.11'\n",
       "60. 'r3d.12'\n",
       "61. 'r3d.13'\n",
       "62. 'r3d.14'\n",
       "63. 'r3d.15'\n",
       "64. 'r3d.16'\n",
       "65. 'r3d.19'\n",
       "66. 'r3d.2'\n",
       "67. 'r3d.20'\n",
       "68. 'r3d.21'\n",
       "69. 'r3d.7'\n",
       "70. 'rd.1'\n",
       "71. 'rd.11'\n",
       "72. 'rd.12'\n",
       "73. 'rd.13'\n",
       "74. 'rd.14'\n",
       "75. 'rd.15'\n",
       "76. 'rd.16'\n",
       "77. 'rd.19'\n",
       "78. 'rd.2'\n",
       "79. 'rd.20'\n",
       "80. 'rd.21'\n",
       "81. 'rd.7'\n",
       "82. 'rhr.11_td.17'\n",
       "83. 'rhr.11_td.18'\n",
       "84. 'rhr.12_td.17'\n",
       "85. 'rhr.12_td.18'\n",
       "86. 'rhr.13_td.17'\n",
       "87. 'rhr.13_td.18'\n",
       "88. 'rhr.14_td.17'\n",
       "89. 'rhr.14_td.18'\n",
       "90. 'rhr.15_td.17'\n",
       "91. 'rhr.15_td.18'\n",
       "92. 'rhr.16_td.17'\n",
       "93. 'rhr.16_td.18'\n",
       "94. 'rhr.1_td.17'\n",
       "95. 'rhr.1_td.18'\n",
       "96. 'rhr.21_td.17'\n",
       "97. 'rhr.21_td.18'\n",
       "98. 'rhr.2_td.17'\n",
       "99. 'rhr.2_td.18'\n",
       "100. 'rhr.7_td.17'\n",
       "101. 'rhr.7_td.18'\n",
       "102. 'rhrmx.1'\n",
       "103. 'rhrmx.11'\n",
       "104. 'rhrmx.12'\n",
       "105. 'rhrmx.13'\n",
       "106. 'rhrmx.14'\n",
       "107. 'rhrmx.15'\n",
       "108. 'rhrmx.16'\n",
       "109. 'rhrmx.2'\n",
       "110. 'rhrmx.21'\n",
       "111. 'rhrmx.7'\n",
       "112. 'td_av.17'\n",
       "113. 'td_av.18'\n",
       "114. 'xcoord'\n",
       "115. 'ycoord'\n",
       "116. 'twi'\n",
       "117. 'elev_1'\n",
       "118. 'dist_to_ba'\n",
       "119. 'imp'\n",
       "120. 'dist_to_wa'\n",
       "121. 'in_hague'\n",
       "122. 'Structure1'\n",
       "123. 'Rim_Elevat'\n",
       "124. 'Invert_Ele'\n",
       "125. 'Year_Insta'\n",
       "126. 'Pipe_Geome'\n",
       "127. 'Horizontal'\n",
       "128. 'Vertical_D'\n",
       "129. 'Pipe_Lengt'\n",
       "130. 'Pipe_Mater'\n",
       "131. 'Year_Ins_1'\n",
       "132. 'Condition'\n",
       "133. 'flooded'\n",
       "\n",
       "\n"
      ],
      "text/plain": [
       "  [1] \"AWDR.19\"      \"AWND.19\"      \"AWND.20\"      \"WDF2.19\"      \"WDF2.20\"     \n",
       "  [6] \"WDF2.3\"       \"WDF6.18\"      \"WGF6.18\"      \"WSF2.19\"      \"WSF2.20\"     \n",
       " [11] \"WSF2.3\"       \"WSF6.18\"      \"gw_av.10\"     \"gw_av.11\"     \"gw_av.4\"     \n",
       " [16] \"gw_av.5\"      \"gw_av.6\"      \"gw_av.8\"      \"gw_av.9\"      \"hht.17\"      \n",
       " [21] \"hht.18\"       \"ht.17\"        \"ht.18\"        \"llt.17\"       \"llt.18\"      \n",
       " [26] \"lt.17\"        \"lt.18\"        \"r15.11_td.17\" \"r15.11_td.18\" \"r15.12_td.17\"\n",
       " [31] \"r15.12_td.18\" \"r15.13_td.17\" \"r15.13_td.18\" \"r15.14_td.17\" \"r15.14_td.18\"\n",
       " [36] \"r15.15_td.17\" \"r15.15_td.18\" \"r15.16_td.17\" \"r15.16_td.18\" \"r15.1_td.17\" \n",
       " [41] \"r15.1_td.18\"  \"r15.21_td.17\" \"r15.21_td.18\" \"r15.2_td.17\"  \"r15.2_td.18\" \n",
       " [46] \"r15.7_td.17\"  \"r15.7_td.18\"  \"r15mx.1\"      \"r15mx.11\"     \"r15mx.12\"    \n",
       " [51] \"r15mx.13\"     \"r15mx.14\"     \"r15mx.15\"     \"r15mx.16\"     \"r15mx.2\"     \n",
       " [56] \"r15mx.21\"     \"r15mx.7\"      \"r3d.1\"        \"r3d.11\"       \"r3d.12\"      \n",
       " [61] \"r3d.13\"       \"r3d.14\"       \"r3d.15\"       \"r3d.16\"       \"r3d.19\"      \n",
       " [66] \"r3d.2\"        \"r3d.20\"       \"r3d.21\"       \"r3d.7\"        \"rd.1\"        \n",
       " [71] \"rd.11\"        \"rd.12\"        \"rd.13\"        \"rd.14\"        \"rd.15\"       \n",
       " [76] \"rd.16\"        \"rd.19\"        \"rd.2\"         \"rd.20\"        \"rd.21\"       \n",
       " [81] \"rd.7\"         \"rhr.11_td.17\" \"rhr.11_td.18\" \"rhr.12_td.17\" \"rhr.12_td.18\"\n",
       " [86] \"rhr.13_td.17\" \"rhr.13_td.18\" \"rhr.14_td.17\" \"rhr.14_td.18\" \"rhr.15_td.17\"\n",
       " [91] \"rhr.15_td.18\" \"rhr.16_td.17\" \"rhr.16_td.18\" \"rhr.1_td.17\"  \"rhr.1_td.18\" \n",
       " [96] \"rhr.21_td.17\" \"rhr.21_td.18\" \"rhr.2_td.17\"  \"rhr.2_td.18\"  \"rhr.7_td.17\" \n",
       "[101] \"rhr.7_td.18\"  \"rhrmx.1\"      \"rhrmx.11\"     \"rhrmx.12\"     \"rhrmx.13\"    \n",
       "[106] \"rhrmx.14\"     \"rhrmx.15\"     \"rhrmx.16\"     \"rhrmx.2\"      \"rhrmx.21\"    \n",
       "[111] \"rhrmx.7\"      \"td_av.17\"     \"td_av.18\"     \"xcoord\"       \"ycoord\"      \n",
       "[116] \"twi\"          \"elev_1\"       \"dist_to_ba\"   \"imp\"          \"dist_to_wa\"  \n",
       "[121] \"in_hague\"     \"Structure1\"   \"Rim_Elevat\"   \"Invert_Ele\"   \"Year_Insta\"  \n",
       "[126] \"Pipe_Geome\"   \"Horizontal\"   \"Vertical_D\"   \"Pipe_Lengt\"   \"Pipe_Mater\"  \n",
       "[131] \"Year_Ins_1\"   \"Condition\"    \"flooded\"     "
      ]
     },
     "metadata": {},
     "output_type": "display_data"
    }
   ],
   "source": [
    "colnames(train_data)"
   ]
  },
  {
   "cell_type": "code",
   "execution_count": 92,
   "metadata": {
    "collapsed": false
   },
   "outputs": [
    {
     "name": "stdout",
     "output_type": "stream",
     "text": [
      "\n",
      "Classification tree:\n",
      "rpart(formula = dt_fmla, data = train_data, method = \"class\", \n",
      "    minsplit = 1, minbucket = 1)\n",
      "\n",
      "Variables actually used in tree construction:\n",
      " [1] AWDR.19    dist_to_wa elev_1     Horizontal r15mx.15   rd.15     \n",
      " [7] rd.16      rd.2       rd.20      rd.21      rhrmx.2    twi       \n",
      "[13] WDF2.3    \n",
      "\n",
      "Root node error: 73/18015 = 0.0040522\n",
      "\n",
      "n= 18015 \n",
      "\n",
      "        CP nsplit rel error  xerror     xstd\n",
      "1 0.232877      0  1.000000 1.00000 0.116804\n",
      "2 0.082192      2  0.534247 0.53425 0.085455\n",
      "3 0.054795      4  0.369863 0.42466 0.076205\n",
      "4 0.022831      5  0.315068 0.32877 0.067065\n",
      "5 0.013699      9  0.191781 0.30137 0.064213\n",
      "6 0.010000     17  0.082192 0.38356 0.072430\n"
     ]
    }
   ],
   "source": [
    "fit = rpart(dt_fmla, method='class', data=train_data, minsplit=1, minbucket=1)\n",
    "printcp(fit)"
   ]
  },
  {
   "cell_type": "code",
   "execution_count": 93,
   "metadata": {
    "collapsed": false
   },
   "outputs": [
    {
     "data": {
      "text/html": [
       "<strong>png:</strong> 2"
      ],
      "text/latex": [
       "\\textbf{png:} 2"
      ],
      "text/markdown": [
       "**png:** 2"
      ],
      "text/plain": [
       "png \n",
       "  2 "
      ]
     },
     "metadata": {},
     "output_type": "display_data"
    },
    {
     "data": {
      "image/png": "[encoded data removed]",
      "text/plain": [
       "plot without title"
      ]
     },
     "metadata": {},
     "output_type": "display_data"
    }
   ],
   "source": [
    "tiff(paste(fig_dir, \"Plot_hg.tif\"), width=9, height=6, units='in', res = 300)\n",
    "rpart.plot(fit, under=TRUE, cex=0.9, extra=1, varlen = 6)\n",
    "dev.off()\n",
    "rpart.plot(fit, under=TRUE, cex=0.9, extra=1, varlen = 6)"
   ]
  },
  {
   "cell_type": "code",
   "execution_count": 94,
   "metadata": {
    "collapsed": false
   },
   "outputs": [
    {
     "data": {
      "image/png": "[encoded data removed]",
      "text/plain": [
       "plot without title"
      ]
     },
     "metadata": {},
     "output_type": "display_data"
    }
   ],
   "source": [
    "pfit<- prune(fit, cp=fit$cptable[which.min(fit$cptable[,\"xerror\"]),\"CP\"])\n",
    "rpart.plot(pfit, under=TRUE, cex=0.9, extra=1, varlen = 6)"
   ]
  },
  {
   "cell_type": "markdown",
   "metadata": {},
   "source": [
    "#### Decision Tree training results"
   ]
  },
  {
   "cell_type": "code",
   "execution_count": 95,
   "metadata": {
    "collapsed": false
   },
   "outputs": [
    {
     "data": {
      "text/plain": [
       "       pred\n",
       "trn_out     0     1\n",
       "      0 17942     0\n",
       "      1    14    59"
      ]
     },
     "metadata": {},
     "output_type": "display_data"
    }
   ],
   "source": [
    "pred = predict(pfit, train_data, type = 'class')\n",
    "table(trn_out, pred)"
   ]
  },
  {
   "cell_type": "markdown",
   "metadata": {},
   "source": [
    "#### Decision Tree testing results"
   ]
  },
  {
   "cell_type": "code",
   "execution_count": 96,
   "metadata": {
    "collapsed": false
   },
   "outputs": [
    {
     "data": {
      "text/plain": [
       "       pred\n",
       "tst_out    0    1\n",
       "      0 7691    0\n",
       "      1   12   19"
      ]
     },
     "metadata": {},
     "output_type": "display_data"
    }
   ],
   "source": [
    "pred = predict(pfit, test_data, type = 'class')\n",
    "table(tst_out, pred)"
   ]
  },
  {
   "cell_type": "markdown",
   "metadata": {},
   "source": [
    "### Random Forests"
   ]
  },
  {
   "cell_type": "code",
   "execution_count": 78,
   "metadata": {
    "collapsed": false
   },
   "outputs": [
    {
     "data": {
      "text/plain": [
       "       pred\n",
       "trn_out FALSE TRUE\n",
       "  FALSE   741    0\n",
       "  TRUE      0   82"
      ]
     },
     "metadata": {},
     "output_type": "display_data"
    }
   ],
   "source": [
    "forest = randomForest(dt_fmla, data = dt_train_data, importance = TRUE, type=\"classification\", nodesize=2)\n",
    "\n",
    "pred = predict(forest, dt_train_data[, in_col_names])\n",
    "table(trn_out, pred)"
   ]
  },
  {
   "cell_type": "code",
   "execution_count": 79,
   "metadata": {
    "collapsed": false,
    "scrolled": false
   },
   "outputs": [
    {
     "data": {
      "text/plain": [
       "       pred\n",
       "tst_out FALSE  TRUE\n",
       "  FALSE 52476   506\n",
       "  TRUE      8    27"
      ]
     },
     "metadata": {},
     "output_type": "display_data"
    },
    {
     "data": {
      "image/png": "[encoded data removed]",
      "text/plain": [
       "plot without title"
      ]
     },
     "metadata": {},
     "output_type": "display_data"
    }
   ],
   "source": [
    "pred = predict(forest, dt_test_data)\n",
    "table(tst_out, pred)\n",
    "impo = as.data.frame(forest$importance)\n",
    "impo = impo[order(-impo$MeanDecreaseGini),]\n",
    "par(las=2)\n",
    "barplot(impo$MeanDecreaseGini, names.arg=rownames(impo), ylim = c(0, 70))"
   ]
  },
  {
   "cell_type": "markdown",
   "metadata": {
    "collapsed": true
   },
   "source": [
    "### Logistic Regression"
   ]
  },
  {
   "cell_type": "code",
   "execution_count": null,
   "metadata": {
    "collapsed": false
   },
   "outputs": [],
   "source": [
    "lo_fit = glm(fmla, family=binomial(link='logit'), data=train_data)\n",
    "print(lo_fit)"
   ]
  },
  {
   "cell_type": "code",
   "execution_count": null,
   "metadata": {
    "collapsed": false
   },
   "outputs": [],
   "source": [
    "pred = predict(lo_fit, as.data.frame(tst_in), type=\"response\")\n",
    "table(tst_out, round(pred)>0)"
   ]
  },
  {
   "cell_type": "code",
   "execution_count": null,
   "metadata": {
    "collapsed": true
   },
   "outputs": [],
   "source": []
  }
 ],
 "metadata": {
  "kernelspec": {
   "display_name": "R",
   "language": "R",
   "name": "ir"
  },
  "language_info": {
   "codemirror_mode": "r",
   "file_extension": ".r",
   "mimetype": "text/x-r-source",
   "name": "R",
   "pygments_lexer": "r",
   "version": "3.3.2"
  }
 },
 "nbformat": 4,
 "nbformat_minor": 2
}
